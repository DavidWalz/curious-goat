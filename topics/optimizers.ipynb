{
 "cells": [
  {
   "cell_type": "markdown",
   "metadata": {},
   "source": [
    "# Optimizers\n",
    "This is a snapshot of the optimizers implemented in scipy, tensorflow and torch."
   ]
  },
  {
   "cell_type": "markdown",
   "metadata": {},
   "source": [
    "## scipy.optimize"
   ]
  },
  {
   "cell_type": "markdown",
   "metadata": {},
   "source": [
    "Scipy has the most extensive set of methods.\n",
    "\n",
    "**Local optimization:**\n",
    "* Nelder-Mead\n",
    "* Powell\n",
    "* CG\n",
    "* BFGS\n",
    "* Newton-CG\n",
    "* L-BFGS-B\n",
    "* TNC\n",
    "* COBYLA\n",
    "* SLSQP\n",
    "* trust-constr\n",
    "* dogleg\n",
    "* trust-ncg\n",
    "* trust-krylov\n",
    "* trust-exact\n",
    "\n",
    "**Heuristic global optimization:**\n",
    "* basinhopping\n",
    "* brute\n",
    "* differential_evolution\n",
    "* shgo\n",
    "* dual_annealing\n",
    "\n",
    "Constraints are supported by 'trust-constr' , 'SLSQP' and 'COBYLA'."
   ]
  },
  {
   "cell_type": "code",
   "execution_count": 1,
   "metadata": {},
   "outputs": [
    {
     "data": {
      "text/plain": [
       "'1.4.1'"
      ]
     },
     "execution_count": 1,
     "metadata": {},
     "output_type": "execute_result"
    }
   ],
   "source": [
    "import scipy\n",
    "import scipy.optimize\n",
    "scipy.__version__\n",
    "# [f for f in dir(scipy.optimize) if not f.startswith('_')]"
   ]
  },
  {
   "cell_type": "markdown",
   "metadata": {},
   "source": [
    "## tf.optimizers"
   ]
  },
  {
   "cell_type": "markdown",
   "metadata": {},
   "source": [
    "Tensorflow has a number of stochastic gradient descent methods.\n",
    "* Adadelta\n",
    "* Adagrad\n",
    "* Adam\n",
    "* Adamax\n",
    "* Nadam\n",
    "* RMSprop\n",
    "* SGD\n",
    "* Ftrl"
   ]
  },
  {
   "cell_type": "code",
   "execution_count": 3,
   "metadata": {},
   "outputs": [
    {
     "data": {
      "text/plain": [
       "'2.1.0'"
      ]
     },
     "execution_count": 3,
     "metadata": {},
     "output_type": "execute_result"
    }
   ],
   "source": [
    "import tensorflow as tf\n",
    "tf.__version__\n",
    "# [f for f in dir(tf.optimizers) if not f.startswith('_')]"
   ]
  },
  {
   "cell_type": "markdown",
   "metadata": {},
   "source": [
    "## tfp.optimizer"
   ]
  },
  {
   "cell_type": "markdown",
   "metadata": {},
   "source": [
    "Tensorflow probability implements a some quasi-second order methods and gradient-free methods.\n",
    "* bfgs_minimize\n",
    "* lbfgs_minimize\n",
    "* differential_evolution_minimize\n",
    "* nelder_mead_minimize\n",
    "* linesearch\n",
    "* proximal_hessian_sparse\n",
    "* sgld\n",
    "* variational_sgd"
   ]
  },
  {
   "cell_type": "code",
   "execution_count": 5,
   "metadata": {},
   "outputs": [
    {
     "data": {
      "text/plain": [
       "'0.9.0'"
      ]
     },
     "execution_count": 5,
     "metadata": {},
     "output_type": "execute_result"
    }
   ],
   "source": [
    "import tensorflow_probability as tfp\n",
    "tfp.__version__\n",
    "# [f for f in dir(tfp.optimizer) if not f.startswith('_')]"
   ]
  },
  {
   "cell_type": "code",
   "execution_count": 12,
   "metadata": {},
   "outputs": [
    {
     "name": "stdout",
     "output_type": "stream",
     "text": [
      "<tf.Variable 'Variable:0' shape=() dtype=float32, numpy=5.0390043>\n"
     ]
    }
   ],
   "source": [
    "# Example\n",
    "x = tf.Variable(0.)\n",
    "loss_fn = lambda: (x - 5.)**2\n",
    "losses = tfp.math.minimize(\n",
    "    loss_fn,\n",
    "    num_steps=100,\n",
    "    optimizer=tf.optimizers.Adam(learning_rate=0.1)\n",
    ")\n",
    "print(x)"
   ]
  },
  {
   "cell_type": "markdown",
   "metadata": {},
   "source": [
    "## torch.optimizers"
   ]
  },
  {
   "cell_type": "markdown",
   "metadata": {},
   "source": [
    "* ASGD\n",
    "* Adadelta\n",
    "* Adagrad\n",
    "* Adam\n",
    "* AdamW\n",
    "* Adamax\n",
    "* LBFGS\n",
    "* Optimizer\n",
    "* RMSprop\n",
    "* Rprop\n",
    "* SGD\n",
    "* SparseAdam"
   ]
  },
  {
   "cell_type": "code",
   "execution_count": 8,
   "metadata": {},
   "outputs": [
    {
     "data": {
      "text/plain": [
       "'1.3.1'"
      ]
     },
     "execution_count": 8,
     "metadata": {},
     "output_type": "execute_result"
    }
   ],
   "source": [
    "import torch\n",
    "torch.__version__\n",
    "# [f for f in dir(torch.optim) if not f.startswith('_')]"
   ]
  },
  {
   "cell_type": "code",
   "execution_count": null,
   "metadata": {},
   "outputs": [],
   "source": []
  }
 ],
 "metadata": {
  "kernelspec": {
   "display_name": "Python 3",
   "language": "python",
   "name": "python3"
  },
  "language_info": {
   "codemirror_mode": {
    "name": "ipython",
    "version": 3
   },
   "file_extension": ".py",
   "mimetype": "text/x-python",
   "name": "python",
   "nbconvert_exporter": "python",
   "pygments_lexer": "ipython3",
   "version": "3.8.1"
  }
 },
 "nbformat": 4,
 "nbformat_minor": 4
}
