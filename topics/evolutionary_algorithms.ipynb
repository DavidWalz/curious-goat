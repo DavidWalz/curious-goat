{
 "cells": [
  {
   "cell_type": "markdown",
   "metadata": {},
   "source": [
    "# Evolutionary Algorithms\n",
    "\n",
    "Evolutionary algorithms are a family of population-based and typically gradient-free optimization methods for non-linear / non-convex functions in high dimensions. Certain variants are well suited for multi-objective optimization as population converges to sampling the Pareto front.\n",
    "\n",
    "* [Differential evolution](#Differential-evolution)\n",
    "* [Particle swarm optimization](#Particle-swarm-optimization)\n",
    "* [Genetic algorithms](#Genetic-algorithms)\n",
    "* [CMA-ES](#CMA-ES)"
   ]
  },
  {
   "cell_type": "code",
   "execution_count": 1,
   "metadata": {},
   "outputs": [],
   "source": [
    "import numpy as np"
   ]
  },
  {
   "cell_type": "markdown",
   "metadata": {},
   "source": [
    "## Differential evolution"
   ]
  },
  {
   "cell_type": "markdown",
   "metadata": {},
   "source": [
    "The basic variant of differential evoluation works as follows: \n",
    "* While the stopping criterion is not met, cycle through each individual in the population and perform\n",
    "  1. Mutation: pick 3 random individuals $a, b, c$ from population to construct new point as $x_n = a + (b - c) \\times F$ where $F$ is the mutation rate\n",
    "  2. Cross-over: randomly accept new traits into the individual according to crossover probability\n",
    "  3. Selection: keep new individual if better\n",
    "  \n",
    "The optimization performance depends on the parameters: population size, mutation rate, and crossover probability."
   ]
  },
  {
   "cell_type": "code",
   "execution_count": 2,
   "metadata": {},
   "outputs": [
    {
     "data": {
      "text/plain": [
       "array([ 1.00003057e+00, -4.31461392e-06, -2.34050264e-05])"
      ]
     },
     "execution_count": 2,
     "metadata": {},
     "output_type": "execute_result"
    }
   ],
   "source": [
    "def optimize_de(func, bounds, n=20, mutation=0.5, crossover=0.7, steps=50):\n",
    "    \"\"\"Differential evolution optimization\n",
    "    \n",
    "    Args:\n",
    "        func: callable f(x) to be minimized\n",
    "        bounds: box bounds of the input space [[lower bounds], [upper bounds]]\n",
    "        n: population size, >= 4\n",
    "        mutation: mutation rate / differential weight, typically (0 - 2]\n",
    "        crossover: crossover probability\n",
    "        steps: number of steps / generations\n",
    "        \n",
    "    Returns:\n",
    "        x_min: the best inputs found\n",
    "    \"\"\"\n",
    "    lower, upper = bounds\n",
    "    d = len(lower)  # number of inputs\n",
    "    \n",
    "    population = np.random.uniform(lower, upper, size=(n, d))\n",
    "            \n",
    "    for i in range(steps):\n",
    "        \n",
    "        # loop over individuals in the population\n",
    "        for j, x_target in enumerate(population):\n",
    "            \n",
    "            # Mutation\n",
    "            candidates = list(range(n))\n",
    "            candidates.remove(j)\n",
    "            x1, x2, x3 = population[np.random.choice(candidates, size=3, replace=False)]\n",
    "            x_new = x1 + (x2 - x3) * mutation\n",
    "            x_new = np.clip(x_new, lower, upper)\n",
    "\n",
    "            # Cross-over\n",
    "            x_new = np.where(np.random.rand(d) < crossover, x_new, x_target)\n",
    "                    \n",
    "            # Selection\n",
    "            if func(x_new) < func(x_target):\n",
    "                population[j] = x_new\n",
    "\n",
    "    best = np.argmin(func(population))\n",
    "    return population[best]\n",
    "\n",
    "\n",
    "def some_function(x):\n",
    "    return np.sum((x - [1, 0, 0])**2, axis=-1)\n",
    "\n",
    "optimize_de(some_function, bounds=[[-2, -2, -2], [2, 2, 2]])"
   ]
  },
  {
   "cell_type": "markdown",
   "metadata": {},
   "source": [
    "## CMA-ES"
   ]
  },
  {
   "cell_type": "markdown",
   "metadata": {},
   "source": [
    "[Covariance matrix adaption evolution strategy](https://en.wikipedia.org/wiki/CMA-ES)  \n",
    "In the commonly used (μ/μw, λ)-CMA-ES in each iteration step a weighted combination of the μ best out of λ new candidate solutions is used to update the distribution parameters. The main loop consists of three main parts: \n",
    "1. sampling of new solutions\n",
    "2. re-ordering of the sampled solutions based on their fitness\n",
    "3. update of the internal state variables based on the re-ordered samples\n",
    "\n",
    "Links\n",
    "* tutorial https://arxiv.org/abs/1604.00772  \n",
    "* pure python implemention in pycma https://github.com/CMA-ES/pycma/blob/master/cma/evolution_strategy.py  \n",
    "* CMA in DEAP https://github.com/DEAP/deap/blob/master/deap/cma.py  \n",
    "* CMA in TF https://github.com/srom/cma-es/blob/master/cma/core.py  "
   ]
  },
  {
   "cell_type": "code",
   "execution_count": null,
   "metadata": {},
   "outputs": [],
   "source": []
  },
  {
   "cell_type": "markdown",
   "metadata": {},
   "source": [
    "## Particle swarm optimization"
   ]
  },
  {
   "cell_type": "markdown",
   "metadata": {},
   "source": [
    "Basic implemtation according https://en.wikipedia.org/wiki/Particle_swarm_optimization#Algorithm"
   ]
  },
  {
   "cell_type": "code",
   "execution_count": null,
   "metadata": {},
   "outputs": [],
   "source": []
  },
  {
   "cell_type": "markdown",
   "metadata": {},
   "source": [
    "## Genetic algorithms"
   ]
  },
  {
   "cell_type": "markdown",
   "metadata": {},
   "source": [
    "1. Pairing\n",
    "2. Mating\n",
    "3. Mutation\n",
    "4. Selection\n",
    "\n",
    "toy implementation\n",
    "https://towardsdatascience.com/continuous-genetic-algorithm-from-scratch-with-python-ff29deedd099"
   ]
  },
  {
   "cell_type": "code",
   "execution_count": null,
   "metadata": {},
   "outputs": [],
   "source": []
  }
 ],
 "metadata": {
  "kernelspec": {
   "display_name": "Python 3",
   "language": "python",
   "name": "python3"
  },
  "language_info": {
   "codemirror_mode": {
    "name": "ipython",
    "version": 3
   },
   "file_extension": ".py",
   "mimetype": "text/x-python",
   "name": "python",
   "nbconvert_exporter": "python",
   "pygments_lexer": "ipython3",
   "version": "3.8.1"
  }
 },
 "nbformat": 4,
 "nbformat_minor": 4
}
