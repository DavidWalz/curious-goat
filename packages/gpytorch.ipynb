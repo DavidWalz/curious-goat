{
 "cells": [
  {
   "cell_type": "markdown",
   "metadata": {},
   "source": [
    "# Gaussian Processes with GPyTorch\n",
    "[GPyTorch](https://gpytorch.ai/) is a Gaussian process framework using PyTorch.\n",
    "Compared to other frameworks (GPy, sklearn), GPyTorch allows for a higher level of control at the expense of a more complicated usage.\n",
    "\n",
    "The following components are needed:\n",
    "1. A model, e.g. `gpytorch.models.ExactGP` for non-variational GPs\n",
    "2. A mean function for the GP model, e.g. `gpytorch.means.ConstantMean`\n",
    "3. A covariance function for the GP model, e.g. `gpytorch.kernels.MaternKernel`\n",
    "4. A likelihood, e.g. `gpytorch.likelihoods.GaussianLikelihood`, for modeling the noise\n",
    "5. A distribution object, e.g. `gpytorch.distributions.MultivariateNormal`, holding the posterior mean and covariance at given inputs"
   ]
  },
  {
   "cell_type": "code",
   "execution_count": 1,
   "metadata": {},
   "outputs": [],
   "source": [
    "import numpy as np\n",
    "import matplotlib.pyplot as plt\n",
    "import gpytorch\n",
    "import torch"
   ]
  },
  {
   "cell_type": "markdown",
   "metadata": {},
   "source": [
    "### Example data"
   ]
  },
  {
   "cell_type": "code",
   "execution_count": 2,
   "metadata": {},
   "outputs": [
    {
     "data": {
      "image/png": "[encoded data removed]",
      "text/plain": [
       "<Figure size 432x288 with 1 Axes>"
      ]
     },
     "metadata": {
      "needs_background": "light"
     },
     "output_type": "display_data"
    }
   ],
   "source": [
    "x_data = torch.linspace(0, 1, 20)\n",
    "y_data = torch.sin(x_data * 2 * np.pi) + 0.2 * torch.randn(*x_data.shape)\n",
    "\n",
    "fig, ax = plt.subplots(1)\n",
    "ax.plot(x_data, y_data, \"o\")\n",
    "ax.set(xlabel=\"$x$\", ylabel=\"$f(x)$\")\n",
    "ax.grid();"
   ]
  },
  {
   "cell_type": "markdown",
   "metadata": {},
   "source": [
    "### Model definition"
   ]
  },
  {
   "cell_type": "markdown",
   "metadata": {},
   "source": [
    "As in PyTorch a user-built GP model implements the following two methods:\n",
    "1. An `__init__` method that takes the training data and a likelihood, and constructs the necessary objects for the model's forward method.\n",
    "2. A `forward` method that for given data $x$ returns a distribution object, e.g. `MultivariateNormal` with the prior mean and covariance evaluated at $x$.\n",
    "\n",
    "Here we use a constant mean, a Matern 5/2 kernel and a Gaussian likelihood."
   ]
  },
  {
   "cell_type": "code",
   "execution_count": 3,
   "metadata": {},
   "outputs": [],
   "source": [
    "class ExactGPModel(gpytorch.models.ExactGP):\n",
    "    def __init__(self, x, y, likelihood):\n",
    "        super(ExactGPModel, self).__init__(x, y, likelihood)\n",
    "        self.mean = gpytorch.means.ConstantMean()\n",
    "        self.kern = gpytorch.kernels.ScaleKernel(gpytorch.kernels.MaternKernel())\n",
    "\n",
    "    def forward(self, x):\n",
    "        return gpytorch.distributions.MultivariateNormal(self.mean(x), self.kern(x))\n",
    "\n",
    "likelihood = gpytorch.likelihoods.GaussianLikelihood()\n",
    "model = ExactGPModel(x_data, y_data, likelihood)"
   ]
  },
  {
   "cell_type": "code",
   "execution_count": 4,
   "metadata": {},
   "outputs": [
    {
     "data": {
      "text/plain": [
       "ExactGPModel(\n",
       "  (likelihood): GaussianLikelihood(\n",
       "    (quadrature): GaussHermiteQuadrature1D()\n",
       "    (noise_covar): HomoskedasticNoise(\n",
       "      (raw_noise_constraint): GreaterThan(1.000E-04)\n",
       "    )\n",
       "  )\n",
       "  (mean): ConstantMean()\n",
       "  (kern): ScaleKernel(\n",
       "    (base_kernel): MaternKernel(\n",
       "      (raw_lengthscale_constraint): Positive()\n",
       "    )\n",
       "    (raw_outputscale_constraint): Positive()\n",
       "  )\n",
       ")"
      ]
     },
     "execution_count": 4,
     "metadata": {},
     "output_type": "execute_result"
    }
   ],
   "source": [
    "model"
   ]
  },
  {
   "cell_type": "markdown",
   "metadata": {},
   "source": [
    "### Parameters"
   ]
  },
  {
   "cell_type": "markdown",
   "metadata": {},
   "source": [
    "The **raw** parameters are initialized to 0:"
   ]
  },
  {
   "cell_type": "code",
   "execution_count": 5,
   "metadata": {},
   "outputs": [
    {
     "name": "stdout",
     "output_type": "stream",
     "text": [
      "likelihood.noise_covar.raw_noise    = 0.0\n",
      "mean.constant                       = 0.0\n",
      "kern.raw_outputscale                = 0.0\n",
      "kern.base_kernel.raw_lengthscale    = 0.0\n"
     ]
    }
   ],
   "source": [
    "for name, param in model.named_parameters():\n",
    "    print(f\"{name:35} = {param.item()}\")"
   ]
  },
  {
   "cell_type": "markdown",
   "metadata": {},
   "source": [
    "and have the following default constraints:"
   ]
  },
  {
   "cell_type": "code",
   "execution_count": 6,
   "metadata": {},
   "outputs": [
    {
     "name": "stdout",
     "output_type": "stream",
     "text": [
      "likelihood.noise_covar.raw_noise_constraint   = GreaterThan(1.000E-04)\n",
      "kern.raw_outputscale_constraint               = Positive()\n",
      "kern.base_kernel.raw_lengthscale_constraint   = Positive()\n"
     ]
    }
   ],
   "source": [
    "for name, constraint in model.named_constraints():\n",
    "    print(f'{name:45} = {constraint}')"
   ]
  },
  {
   "cell_type": "markdown",
   "metadata": {},
   "source": [
    "Constraints define a `transform` and `inverseTransform` method that transform from the raw to actual parameter values and vice versa. When we set the actual outputscale value to a non-zero value we see that raw and actual value differ (the actual value is the softplus $\\log(1 + e^x)$ of the raw value)."
   ]
  },
  {
   "cell_type": "code",
   "execution_count": 7,
   "metadata": {},
   "outputs": [
    {
     "name": "stdout",
     "output_type": "stream",
     "text": [
      "outputscale: raw=0.541, actual=1.000\n"
     ]
    }
   ],
   "source": [
    "k = model.kern\n",
    "k.outputscale = 1  # set the actual value to 1\n",
    "print(f\"outputscale: raw={k.raw_outputscale:.3f}, actual={k.outputscale:.3f}\")"
   ]
  },
  {
   "cell_type": "markdown",
   "metadata": {},
   "source": [
    "### Model training"
   ]
  },
  {
   "cell_type": "markdown",
   "metadata": {},
   "source": [
    "As in PyTorch we need to implement the training loop ourself."
   ]
  },
  {
   "cell_type": "code",
   "execution_count": 8,
   "metadata": {},
   "outputs": [],
   "source": [
    "def print_parameters():\n",
    "    loss = - mll(model(x_data), y_data).item()\n",
    "    ls = model.kern.base_kernel.lengthscale.item()\n",
    "    σ_kern = model.kern.outputscale.item() ** .5\n",
    "    σ_noise = model.likelihood.noise.item() ** .5\n",
    "    print(f\"loss: {loss:.3f}, lengthscale: {ls:.3f}, scale: {σ_kern:.3f}, noise: {σ_noise:.3f}\")"
   ]
  },
  {
   "cell_type": "code",
   "execution_count": 9,
   "metadata": {},
   "outputs": [
    {
     "name": "stdout",
     "output_type": "stream",
     "text": [
      "loss: 0.146, lengthscale: 0.250, scale: 0.717, noise: 0.147\n"
     ]
    }
   ],
   "source": [
    "model.train()\n",
    "likelihood.train()\n",
    "\n",
    "optimizer = torch.optim.Adam([{'params': model.parameters()}], lr=0.1)\n",
    "mll = gpytorch.mlls.ExactMarginalLogLikelihood(likelihood, model)\n",
    "\n",
    "for i in range(100):\n",
    "    optimizer.zero_grad()\n",
    "    loss = - mll(model(x_data), y_data)\n",
    "    loss.backward()\n",
    "    optimizer.step()\n",
    "    \n",
    "print_parameters()"
   ]
  },
  {
   "cell_type": "markdown",
   "metadata": {},
   "source": [
    "We can also use LBFGS as a quasi-Newton optimizer."
   ]
  },
  {
   "cell_type": "code",
   "execution_count": 10,
   "metadata": {},
   "outputs": [
    {
     "name": "stdout",
     "output_type": "stream",
     "text": [
      "loss: 0.145, lengthscale: 0.253, scale: 0.725, noise: 0.148\n"
     ]
    }
   ],
   "source": [
    "model.train()\n",
    "likelihood.train()\n",
    "\n",
    "optimizer = torch.optim.LBFGS([{'params': model.parameters()}], lr=0.5)\n",
    "mll = gpytorch.mlls.ExactMarginalLogLikelihood(likelihood, model)\n",
    "\n",
    "def closure():\n",
    "    optimizer.zero_grad()\n",
    "    loss = - mll(model(x_data), y_data)\n",
    "    loss.backward()\n",
    "    return loss\n",
    "    \n",
    "for i in range(15):\n",
    "    optimizer.step(closure)\n",
    "    \n",
    "print_parameters()"
   ]
  },
  {
   "cell_type": "markdown",
   "metadata": {},
   "source": [
    "### Make predictions"
   ]
  },
  {
   "cell_type": "markdown",
   "metadata": {},
   "source": [
    "Making predictions (evaluating the posterior predictive) is rather straightforward."
   ]
  },
  {
   "cell_type": "code",
   "execution_count": 11,
   "metadata": {},
   "outputs": [],
   "source": [
    "# switch to evaluation mode\n",
    "model.eval()\n",
    "likelihood.eval()\n",
    "\n",
    "# evaluate at new points\n",
    "with torch.no_grad():\n",
    "    x_new = torch.linspace(0, 1, 101)\n",
    "    f_pred = model(x_new)  # noise-less predictions\n",
    "    y_pred = likelihood(model(x_new))  # predictions including noise"
   ]
  },
  {
   "cell_type": "code",
   "execution_count": 12,
   "metadata": {},
   "outputs": [
    {
     "name": "stderr",
     "output_type": "stream",
     "text": [
      "/home/walzds/.local/lib/python3.8/site-packages/gpytorch/utils/cholesky.py:42: RuntimeWarning: A not p.d., added jitter of 1e-06 to the diagonal\n",
      "  warnings.warn(f\"A not p.d., added jitter of {jitter_new} to the diagonal\", RuntimeWarning)\n"
     ]
    },
    {
     "data": {
      "image/png": "[encoded data removed]",
      "text/plain": [
       "<Figure size 432x288 with 1 Axes>"
      ]
     },
     "metadata": {
      "needs_background": "light"
     },
     "output_type": "display_data"
    }
   ],
   "source": [
    "fig, ax = plt.subplots(1)\n",
    "ax.plot(x_data, y_data, 'ko')\n",
    "ax.plot(x_new, f_pred.mean)\n",
    "lower, upper = f_pred.confidence_region()\n",
    "ax.fill_between(x_new, lower, upper, alpha=0.3)\n",
    "ax.legend(['Observed Data', 'Mean', 'Confidence'])\n",
    "f_samples = f_pred.sample(sample_shape=torch.Size([3]))\n",
    "ax.plot(x_new, f_samples.T, 'C0', lw=0.5)\n",
    "ax.set(xlabel=\"$x$\", ylabel=\"$f(x)$\")\n",
    "ax.grid();"
   ]
  },
  {
   "cell_type": "code",
   "execution_count": 13,
   "metadata": {},
   "outputs": [
    {
     "name": "stdout",
     "output_type": "stream",
     "text": [
      "CPython 3.8.0\n",
      "IPython 7.9.0\n",
      "\n",
      "gpytorch 0.3.6\n",
      "torch 1.3.1\n",
      "\n",
      "compiler   : GCC 9.2.0\n",
      "system     : Linux\n",
      "release    : 4.4.0-43-Microsoft\n",
      "machine    : x86_64\n",
      "processor  : \n",
      "CPU cores  : 4\n",
      "interpreter: 64bit\n"
     ]
    }
   ],
   "source": [
    "%load_ext watermark\n",
    "%watermark -v -m -p gpytorch,torch"
   ]
  }
 ],
 "metadata": {
  "kernelspec": {
   "display_name": "Python 3",
   "language": "python",
   "name": "python3"
  },
  "language_info": {
   "codemirror_mode": {
    "name": "ipython",
    "version": 3
   },
   "file_extension": ".py",
   "mimetype": "text/x-python",
   "name": "python",
   "nbconvert_exporter": "python",
   "pygments_lexer": "ipython3",
   "version": "3.8.0"
  }
 },
 "nbformat": 4,
 "nbformat_minor": 4
}
