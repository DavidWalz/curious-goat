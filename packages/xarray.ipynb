{
 "cells": [
  {
   "cell_type": "markdown",
   "metadata": {},
   "source": [
    "# Xarray: N-D labeled arrays and datasets\n",
    "\n",
    "Xarray introduces labels in the form of dimensions, coordinates and attributes on top of raw NumPy-like arrays, which allows for a more intuitive and concise code.\n",
    "\n",
    "xarray originated in the geosciences and is based on the [netCDF](https://www.unidata.ucar.edu/software/netcdf/docs/faq.html#What-Is-netCDF) data model, however it does not seem to contain any bagage specific to that field.\n",
    "\n",
    "### Content\n",
    "* [DataArray](#DataArray)\n",
    "* [Dataset](#Dataset)\n",
    "* [Reasons to use xarray](#Reasons-to-use-xarray)"
   ]
  },
  {
   "cell_type": "markdown",
   "metadata": {},
   "source": [
    "## DataArray"
   ]
  },
  {
   "cell_type": "markdown",
   "metadata": {},
   "source": [
    "`xarray.DataArray` allows for n-dimensional array with labeled dimensions and coordinates.\n",
    "\n",
    "As example we create a 2-dimensional `DataArray`. We name the dimensions x and y and provide the coordinates along these two dimensions. Additionally we set some metadata attributes on what the array represents (name, long_name, units, descriptions). Likewise we set attributes of the coordinates."
   ]
  },
  {
   "cell_type": "code",
   "execution_count": 1,
   "metadata": {},
   "outputs": [],
   "source": [
    "import xarray as xr\n",
    "import numpy as np"
   ]
  },
  {
   "cell_type": "code",
   "execution_count": 2,
   "metadata": {},
   "outputs": [
    {
     "data": {
      "text/plain": [
       "<xarray.DataArray 'velocity' (x: 2, y: 3)>\n",
       "array([[-2.12986688,  1.17893016,  1.20629703],\n",
       "       [ 0.85204217,  0.19158319,  1.43480901]])\n",
       "Coordinates:\n",
       "  * x        (x) int64 10 20\n",
       "  * y        (y) int64 5 10 15\n",
       "Attributes:\n",
       "    long_name:    random velocity\n",
       "    units:        m/s\n",
       "    description:  A random variable created as an example"
      ]
     },
     "execution_count": 2,
     "metadata": {},
     "output_type": "execute_result"
    }
   ],
   "source": [
    "data = xr.DataArray(\n",
    "    np.random.randn(2, 3),\n",
    "    dims=('x', 'y'),\n",
    "    coords={'x': [10, 20], 'y': [5, 10, 15]},\n",
    "    name='velocity',\n",
    "    attrs={\n",
    "        'long_name': 'random velocity',\n",
    "        'units': 'm/s',\n",
    "        'description': 'A random variable created as an example',\n",
    "    },\n",
    ")\n",
    "\n",
    "# we can also pass attributes to the dimesions\n",
    "data.x.attrs = {'units': 'm', 'long_name': 'x-position'}\n",
    "data.y.attrs = {'units': 'm', 'long_name': 'y-position'}\n",
    "\n",
    "data"
   ]
  },
  {
   "cell_type": "code",
   "execution_count": 3,
   "metadata": {},
   "outputs": [
    {
     "data": {
      "text/plain": [
       "('x', 'y')"
      ]
     },
     "execution_count": 3,
     "metadata": {},
     "output_type": "execute_result"
    }
   ],
   "source": [
    "data.dims"
   ]
  },
  {
   "cell_type": "code",
   "execution_count": 4,
   "metadata": {},
   "outputs": [
    {
     "data": {
      "text/plain": [
       "Coordinates:\n",
       "  * x        (x) int64 10 20\n",
       "  * y        (y) int64 5 10 15"
      ]
     },
     "execution_count": 4,
     "metadata": {},
     "output_type": "execute_result"
    }
   ],
   "source": [
    "data.coords"
   ]
  },
  {
   "cell_type": "code",
   "execution_count": 5,
   "metadata": {},
   "outputs": [
    {
     "data": {
      "text/plain": [
       "{'long_name': 'random velocity',\n",
       " 'units': 'm/s',\n",
       " 'description': 'A random variable created as an example'}"
      ]
     },
     "execution_count": 5,
     "metadata": {},
     "output_type": "execute_result"
    }
   ],
   "source": [
    "data.attrs"
   ]
  },
  {
   "cell_type": "code",
   "execution_count": 6,
   "metadata": {},
   "outputs": [
    {
     "data": {
      "text/plain": [
       "{'units': 'm', 'long_name': 'x-position'}"
      ]
     },
     "execution_count": 6,
     "metadata": {},
     "output_type": "execute_result"
    }
   ],
   "source": [
    "data['x'].attrs"
   ]
  },
  {
   "cell_type": "markdown",
   "metadata": {},
   "source": [
    "### Indexing\n",
    "We can use numpy indexing and pandas indexing. Additionally, we can select by coordinate value or index."
   ]
  },
  {
   "cell_type": "code",
   "execution_count": 7,
   "metadata": {},
   "outputs": [
    {
     "data": {
      "text/plain": [
       "array([-2.12986688,  1.17893016,  1.20629703])"
      ]
     },
     "execution_count": 7,
     "metadata": {},
     "output_type": "execute_result"
    }
   ],
   "source": [
    "data[0, :].values"
   ]
  },
  {
   "cell_type": "code",
   "execution_count": 8,
   "metadata": {},
   "outputs": [
    {
     "data": {
      "text/plain": [
       "array(-2.12986688)"
      ]
     },
     "execution_count": 8,
     "metadata": {},
     "output_type": "execute_result"
    }
   ],
   "source": [
    "data.loc[10, 5].values"
   ]
  },
  {
   "cell_type": "code",
   "execution_count": 9,
   "metadata": {},
   "outputs": [
    {
     "data": {
      "text/plain": [
       "array([-2.12986688,  1.17893016,  1.20629703])"
      ]
     },
     "execution_count": 9,
     "metadata": {},
     "output_type": "execute_result"
    }
   ],
   "source": [
    "data.isel(x=0).values"
   ]
  },
  {
   "cell_type": "code",
   "execution_count": 10,
   "metadata": {},
   "outputs": [
    {
     "data": {
      "text/plain": [
       "array([-2.12986688,  1.17893016,  1.20629703])"
      ]
     },
     "execution_count": 10,
     "metadata": {},
     "output_type": "execute_result"
    }
   ],
   "source": [
    "data.sel(x=10).values"
   ]
  },
  {
   "cell_type": "markdown",
   "metadata": {},
   "source": [
    "### Computation\n",
    "* Operations work as in numpy.  \n",
    "* Aggregation operations can make use of the dimension names.  \n",
    "* Broadcasting is based on dimension names, so we don't need to insert dummy dimensions for axis alignment, or worry about the order of the dimensions!"
   ]
  },
  {
   "cell_type": "code",
   "execution_count": 11,
   "metadata": {},
   "outputs": [
    {
     "data": {
      "text/plain": [
       "<xarray.DataArray 'velocity' (x: 2, y: 3)>\n",
       "array([[ 7.87013312, 11.17893016, 11.20629703],\n",
       "       [10.85204217, 10.19158319, 11.43480901]])\n",
       "Coordinates:\n",
       "  * x        (x) int64 10 20\n",
       "  * y        (y) int64 5 10 15"
      ]
     },
     "execution_count": 11,
     "metadata": {},
     "output_type": "execute_result"
    }
   ],
   "source": [
    "# note that attrs are dropped on any compution or aggregation, \n",
    "# unless the option keep_attrs is set to True\n",
    "data + 10"
   ]
  },
  {
   "cell_type": "code",
   "execution_count": 12,
   "metadata": {},
   "outputs": [
    {
     "name": "stdout",
     "output_type": "stream",
     "text": [
      "<xarray.DataArray 'velocity' (x: 2, y: 3)>\n",
      "array([[ 7.87013312, 11.17893016, 11.20629703],\n",
      "       [10.85204217, 10.19158319, 11.43480901]])\n",
      "Coordinates:\n",
      "  * x        (x) int64 10 20\n",
      "  * y        (y) int64 5 10 15\n",
      "Attributes:\n",
      "    long_name:    random velocity\n",
      "    units:        m/s\n",
      "    description:  A random variable created as an example\n"
     ]
    }
   ],
   "source": [
    "with xr.set_options(keep_attrs=True):\n",
    "    print(data + 10)"
   ]
  },
  {
   "cell_type": "code",
   "execution_count": 13,
   "metadata": {},
   "outputs": [
    {
     "data": {
      "text/plain": [
       "<xarray.DataArray 'velocity' (y: 3, x: 2)>\n",
       "array([[-2.12986688,  0.85204217],\n",
       "       [ 1.17893016,  0.19158319],\n",
       "       [ 1.20629703,  1.43480901]])\n",
       "Coordinates:\n",
       "  * x        (x) int64 10 20\n",
       "  * y        (y) int64 5 10 15\n",
       "Attributes:\n",
       "    long_name:    random velocity\n",
       "    units:        m/s\n",
       "    description:  A random variable created as an example"
      ]
     },
     "execution_count": 13,
     "metadata": {},
     "output_type": "execute_result"
    }
   ],
   "source": [
    "# transpose\n",
    "data.T"
   ]
  },
  {
   "cell_type": "code",
   "execution_count": 14,
   "metadata": {},
   "outputs": [
    {
     "data": {
      "text/plain": [
       "<xarray.DataArray 'velocity' (x: 2)>\n",
       "array([0.0851201 , 0.82614479])\n",
       "Coordinates:\n",
       "  * x        (x) int64 10 20"
      ]
     },
     "execution_count": 14,
     "metadata": {},
     "output_type": "execute_result"
    }
   ],
   "source": [
    "# average along y-dimension\n",
    "data.mean(dim='y')"
   ]
  },
  {
   "cell_type": "code",
   "execution_count": 15,
   "metadata": {},
   "outputs": [
    {
     "data": {
      "text/plain": [
       "<xarray.DataArray (x1: 3, x2: 4)>\n",
       "array([[-1.35420622, -0.20058074, -1.11268736, -0.29163158],\n",
       "       [-1.05416614,  0.09945933, -0.81264729,  0.00840849],\n",
       "       [-0.26200564,  0.89161984, -0.02048678,  0.800569  ]])\n",
       "Dimensions without coordinates: x1, x2"
      ]
     },
     "execution_count": 15,
     "metadata": {},
     "output_type": "execute_result"
    }
   ],
   "source": [
    "# broadcasting\n",
    "a = xr.DataArray(np.random.randn(3), dims=('x1'))\n",
    "b = xr.DataArray(np.random.randn(4), dims=('x2'))\n",
    "a + b"
   ]
  },
  {
   "cell_type": "markdown",
   "metadata": {},
   "source": [
    "### Plotting\n",
    "Plotting uses the unit and name / long_name attributes if available. Plotting is available for 0, 1, and 2-dimensional data."
   ]
  },
  {
   "cell_type": "code",
   "execution_count": 16,
   "metadata": {},
   "outputs": [],
   "source": [
    "# 2d plot\n",
    "data.plot();"
   ]
  },
  {
   "cell_type": "code",
   "execution_count": 17,
   "metadata": {},
   "outputs": [
    {
     "data": {
      "image/png": "[encoded data removed]",
      "text/plain": [
       "<Figure size 432x288 with 1 Axes>"
      ]
     },
     "metadata": {
      "needs_background": "light"
     },
     "output_type": "display_data"
    }
   ],
   "source": [
    "# 1d plot\n",
    "data.sel(x=10).plot();"
   ]
  },
  {
   "cell_type": "code",
   "execution_count": 18,
   "metadata": {},
   "outputs": [
    {
     "data": {
      "image/png": "[encoded data removed]",
      "text/plain": [
       "<Figure size 432x288 with 1 Axes>"
      ]
     },
     "metadata": {
      "needs_background": "light"
     },
     "output_type": "display_data"
    }
   ],
   "source": [
    "# 0d plot\n",
    "data.sel(x=10, y=5).plot();"
   ]
  },
  {
   "cell_type": "markdown",
   "metadata": {},
   "source": [
    "### Conversion to/from pandas\n",
    "A `xarray.DataArray` can be converted to/from `pandas.Series` or `pandas.DataFrame`. Since in our case the array is 2-dimensional, a muliindex is created on the pandas side. The meta-information is obviously lost in the conversion."
   ]
  },
  {
   "cell_type": "code",
   "execution_count": 19,
   "metadata": {},
   "outputs": [
    {
     "data": {
      "text/plain": [
       "x   y \n",
       "10  5    -2.129867\n",
       "    10    1.178930\n",
       "    15    1.206297\n",
       "20  5     0.852042\n",
       "    10    0.191583\n",
       "    15    1.434809\n",
       "Name: velocity, dtype: float64"
      ]
     },
     "execution_count": 19,
     "metadata": {},
     "output_type": "execute_result"
    }
   ],
   "source": [
    "series = data.to_series()\n",
    "series"
   ]
  },
  {
   "cell_type": "code",
   "execution_count": 20,
   "metadata": {},
   "outputs": [
    {
     "data": {
      "text/plain": [
       "<xarray.DataArray 'velocity' (x: 2, y: 3)>\n",
       "array([[-2.12986688,  1.17893016,  1.20629703],\n",
       "       [ 0.85204217,  0.19158319,  1.43480901]])\n",
       "Coordinates:\n",
       "  * x        (x) int64 10 20\n",
       "  * y        (y) int64 5 10 15"
      ]
     },
     "execution_count": 20,
     "metadata": {},
     "output_type": "execute_result"
    }
   ],
   "source": [
    "series.to_xarray()"
   ]
  },
  {
   "cell_type": "code",
   "execution_count": 21,
   "metadata": {},
   "outputs": [
    {
     "data": {
      "text/html": [
       "<div>\n",
       "<style scoped>\n",
       "    .dataframe tbody tr th:only-of-type {\n",
       "        vertical-align: middle;\n",
       "    }\n",
       "\n",
       "    .dataframe tbody tr th {\n",
       "        vertical-align: top;\n",
       "    }\n",
       "\n",
       "    .dataframe thead th {\n",
       "        text-align: right;\n",
       "    }\n",
       "</style>\n",
       "<table border=\"1\" class=\"dataframe\">\n",
       "  <thead>\n",
       "    <tr style=\"text-align: right;\">\n",
       "      <th></th>\n",
       "      <th></th>\n",
       "      <th>velocity</th>\n",
       "    </tr>\n",
       "    <tr>\n",
       "      <th>x</th>\n",
       "      <th>y</th>\n",
       "      <th></th>\n",
       "    </tr>\n",
       "  </thead>\n",
       "  <tbody>\n",
       "    <tr>\n",
       "      <td rowspan=\"3\" valign=\"top\">10</td>\n",
       "      <td>5</td>\n",
       "      <td>-2.129867</td>\n",
       "    </tr>\n",
       "    <tr>\n",
       "      <td>10</td>\n",
       "      <td>1.178930</td>\n",
       "    </tr>\n",
       "    <tr>\n",
       "      <td>15</td>\n",
       "      <td>1.206297</td>\n",
       "    </tr>\n",
       "    <tr>\n",
       "      <td rowspan=\"3\" valign=\"top\">20</td>\n",
       "      <td>5</td>\n",
       "      <td>0.852042</td>\n",
       "    </tr>\n",
       "    <tr>\n",
       "      <td>10</td>\n",
       "      <td>0.191583</td>\n",
       "    </tr>\n",
       "    <tr>\n",
       "      <td>15</td>\n",
       "      <td>1.434809</td>\n",
       "    </tr>\n",
       "  </tbody>\n",
       "</table>\n",
       "</div>"
      ],
      "text/plain": [
       "       velocity\n",
       "x  y           \n",
       "10 5  -2.129867\n",
       "   10  1.178930\n",
       "   15  1.206297\n",
       "20 5   0.852042\n",
       "   10  0.191583\n",
       "   15  1.434809"
      ]
     },
     "execution_count": 21,
     "metadata": {},
     "output_type": "execute_result"
    }
   ],
   "source": [
    "frame = data.to_dataframe()\n",
    "frame"
   ]
  },
  {
   "cell_type": "code",
   "execution_count": 22,
   "metadata": {},
   "outputs": [
    {
     "data": {
      "text/plain": [
       "<xarray.Dataset>\n",
       "Dimensions:   (x: 2, y: 3)\n",
       "Coordinates:\n",
       "  * x         (x) int64 10 20\n",
       "  * y         (y) int64 5 10 15\n",
       "Data variables:\n",
       "    velocity  (x, y) float64 -2.13 1.179 1.206 0.852 0.1916 1.435"
      ]
     },
     "execution_count": 22,
     "metadata": {},
     "output_type": "execute_result"
    }
   ],
   "source": [
    "frame.to_xarray()"
   ]
  },
  {
   "cell_type": "markdown",
   "metadata": {},
   "source": [
    "### Reading and writing files"
   ]
  },
  {
   "cell_type": "code",
   "execution_count": 23,
   "metadata": {},
   "outputs": [],
   "source": [
    "data.to_netcdf('data.nc')"
   ]
  },
  {
   "cell_type": "code",
   "execution_count": 24,
   "metadata": {},
   "outputs": [
    {
     "data": {
      "text/plain": [
       "<xarray.Dataset>\n",
       "Dimensions:   (x: 2, y: 3)\n",
       "Coordinates:\n",
       "  * y         (y) int32 5 10 15\n",
       "  * x         (x) int32 10 20\n",
       "Data variables:\n",
       "    velocity  (x, y) float64 ..."
      ]
     },
     "execution_count": 24,
     "metadata": {},
     "output_type": "execute_result"
    }
   ],
   "source": [
    "xr.open_dataset('data.nc')"
   ]
  },
  {
   "cell_type": "markdown",
   "metadata": {},
   "source": [
    "## Dataset"
   ]
  },
  {
   "cell_type": "markdown",
   "metadata": {},
   "source": [
    "`xarray.Datasets` is a dict-like container of aligned `DataArray` objects, sharing the same coordinate system. We can think of it as n-dimensional generalization of a `pandas.DataFrame`"
   ]
  },
  {
   "cell_type": "code",
   "execution_count": 25,
   "metadata": {},
   "outputs": [
    {
     "data": {
      "text/plain": [
       "<xarray.Dataset>\n",
       "Dimensions:  (x: 2, y: 3)\n",
       "Coordinates:\n",
       "  * x        (x) int64 10 20\n",
       "  * y        (y) int64 5 10 15\n",
       "Data variables:\n",
       "    foo      (x, y) float64 -2.13 1.179 1.206 0.852 0.1916 1.435\n",
       "    bar      (x) int64 1 2\n",
       "    baz      float64 3.142"
      ]
     },
     "execution_count": 25,
     "metadata": {},
     "output_type": "execute_result"
    }
   ],
   "source": [
    "ds = xr.Dataset({'foo': data, 'bar': ('x', [1, 2]), 'baz': np.pi})\n",
    "ds"
   ]
  },
  {
   "cell_type": "code",
   "execution_count": 26,
   "metadata": {},
   "outputs": [
    {
     "data": {
      "text/html": [
       "<div>\n",
       "<style scoped>\n",
       "    .dataframe tbody tr th:only-of-type {\n",
       "        vertical-align: middle;\n",
       "    }\n",
       "\n",
       "    .dataframe tbody tr th {\n",
       "        vertical-align: top;\n",
       "    }\n",
       "\n",
       "    .dataframe thead th {\n",
       "        text-align: right;\n",
       "    }\n",
       "</style>\n",
       "<table border=\"1\" class=\"dataframe\">\n",
       "  <thead>\n",
       "    <tr style=\"text-align: right;\">\n",
       "      <th></th>\n",
       "      <th></th>\n",
       "      <th>foo</th>\n",
       "      <th>bar</th>\n",
       "      <th>baz</th>\n",
       "    </tr>\n",
       "    <tr>\n",
       "      <th>x</th>\n",
       "      <th>y</th>\n",
       "      <th></th>\n",
       "      <th></th>\n",
       "      <th></th>\n",
       "    </tr>\n",
       "  </thead>\n",
       "  <tbody>\n",
       "    <tr>\n",
       "      <td rowspan=\"3\" valign=\"top\">10</td>\n",
       "      <td>5</td>\n",
       "      <td>-2.129867</td>\n",
       "      <td>1</td>\n",
       "      <td>3.141593</td>\n",
       "    </tr>\n",
       "    <tr>\n",
       "      <td>10</td>\n",
       "      <td>1.178930</td>\n",
       "      <td>1</td>\n",
       "      <td>3.141593</td>\n",
       "    </tr>\n",
       "    <tr>\n",
       "      <td>15</td>\n",
       "      <td>1.206297</td>\n",
       "      <td>1</td>\n",
       "      <td>3.141593</td>\n",
       "    </tr>\n",
       "    <tr>\n",
       "      <td rowspan=\"3\" valign=\"top\">20</td>\n",
       "      <td>5</td>\n",
       "      <td>0.852042</td>\n",
       "      <td>2</td>\n",
       "      <td>3.141593</td>\n",
       "    </tr>\n",
       "    <tr>\n",
       "      <td>10</td>\n",
       "      <td>0.191583</td>\n",
       "      <td>2</td>\n",
       "      <td>3.141593</td>\n",
       "    </tr>\n",
       "    <tr>\n",
       "      <td>15</td>\n",
       "      <td>1.434809</td>\n",
       "      <td>2</td>\n",
       "      <td>3.141593</td>\n",
       "    </tr>\n",
       "  </tbody>\n",
       "</table>\n",
       "</div>"
      ],
      "text/plain": [
       "            foo  bar       baz\n",
       "x  y                          \n",
       "10 5  -2.129867    1  3.141593\n",
       "   10  1.178930    1  3.141593\n",
       "   15  1.206297    1  3.141593\n",
       "20 5   0.852042    2  3.141593\n",
       "   10  0.191583    2  3.141593\n",
       "   15  1.434809    2  3.141593"
      ]
     },
     "execution_count": 26,
     "metadata": {},
     "output_type": "execute_result"
    }
   ],
   "source": [
    "ds.to_dataframe()"
   ]
  },
  {
   "cell_type": "markdown",
   "metadata": {},
   "source": [
    "## Reasons to use xarray"
   ]
  },
  {
   "cell_type": "markdown",
   "metadata": {},
   "source": [
    "#### 1) Multidimensional data\n",
    "`pandas.DataFrame` and `Series` are only convenient for tabular (1d) data where we have one dimension (the rows) with coordinates (the index) and one or more measurables (the columns). For a multidimensional example think of the surface temperature as a function of position and time $T(x,y,t)$, thus 3 dimensions. Here, we either have to use a multiindex (x,y,t) or make the dimensions part of the measurables (the columns).  \n",
    "Here `xarray.DataArray` (for one measurable) and `xarray.Dataset` (for multiple measurables with aligned coordinates) offer more convience for indexing operations and are more efficient in terms of memory and computation.\n",
    "\n",
    "#### 2) Support for metainformation \n",
    "With pandas.DataFrames we have typically give abbreviated names to the columns, in order to more conviently access them. However, \n",
    "Another advantage over DataFrames, even for tabular data,  is the support for metainformation for storing units, description and other information that is relevant for understanding the data.\n",
    "\n",
    "#### 3) Support for dask\n",
    "xarray provides direct support for dask."
   ]
  },
  {
   "cell_type": "code",
   "execution_count": 27,
   "metadata": {},
   "outputs": [
    {
     "name": "stdout",
     "output_type": "stream",
     "text": [
      "CPython 3.7.4\n",
      "IPython 7.6.1\n",
      "\n",
      "numpy 1.17.2\n",
      "xarray 0.14.0\n",
      "\n",
      "compiler   : GCC 9.2.0\n",
      "system     : Linux\n",
      "release    : 4.4.0-43-Microsoft\n",
      "machine    : x86_64\n",
      "processor  : \n",
      "CPU cores  : 4\n",
      "interpreter: 64bit\n"
     ]
    }
   ],
   "source": [
    "%load_ext watermark\n",
    "%watermark -v -m -p numpy,xarray"
   ]
  },
  {
   "cell_type": "code",
   "execution_count": null,
   "metadata": {},
   "outputs": [],
   "source": []
  }
 ],
 "metadata": {
  "kernelspec": {
   "display_name": "Python 3",
   "language": "python",
   "name": "python3"
  },
  "language_info": {
   "codemirror_mode": {
    "name": "ipython",
    "version": 3
   },
   "file_extension": ".py",
   "mimetype": "text/x-python",
   "name": "python",
   "nbconvert_exporter": "python",
   "pygments_lexer": "ipython3",
   "version": "3.7.4"
  }
 },
 "nbformat": 4,
 "nbformat_minor": 4
}
