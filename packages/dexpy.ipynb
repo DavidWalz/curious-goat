{
 "cells": [
  {
   "cell_type": "markdown",
   "metadata": {},
   "source": [
    "# dexpy\n",
    "\n",
    "[[code]](https://github.co/statease/dexpy)\n",
    "[[doc]](https://statease.github.io/dexpy/)  \n",
    "Dexpy is a package for constructing experimental designs, featuring screening, response surface, mixture and optimal designs.  \n",
    "It is sadly no longer maintained and does not look fully polished, but is certainly useful as a resource, e.g. for the coordinate-exchange method or the hit-and-run sampler."
   ]
  },
  {
   "cell_type": "code",
   "execution_count": 1,
   "metadata": {},
   "outputs": [
    {
     "data": {
      "text/html": "<div>\n<style scoped>\n    .dataframe tbody tr th:only-of-type {\n        vertical-align: middle;\n    }\n\n    .dataframe tbody tr th {\n        vertical-align: top;\n    }\n\n    .dataframe thead th {\n        text-align: right;\n    }\n</style>\n<table border=\"1\" class=\"dataframe\">\n  <thead>\n    <tr style=\"text-align: right;\">\n      <th></th>\n      <th>stars</th>\n      <th>forks</th>\n      <th>contributors</th>\n      <th>commits</th>\n      <th>open_issues</th>\n      <th>closed_issues</th>\n      <th>created</th>\n      <th>last_commit</th>\n      <th>license</th>\n    </tr>\n    <tr>\n      <th>name</th>\n      <th></th>\n      <th></th>\n      <th></th>\n      <th></th>\n      <th></th>\n      <th></th>\n      <th></th>\n      <th></th>\n      <th></th>\n    </tr>\n  </thead>\n  <tbody>\n    <tr>\n      <th>dexpy</th>\n      <td>10</td>\n      <td>2</td>\n      <td>2</td>\n      <td>247</td>\n      <td>8</td>\n      <td>51</td>\n      <td>2016-09-17</td>\n      <td>2018-06-17</td>\n      <td>NOASSERTION</td>\n    </tr>\n  </tbody>\n</table>\n</div>",
      "text/plain": "       stars  forks  contributors  commits  open_issues  closed_issues  \\\nname                                                                     \ndexpy     10      2             2      247            8             51   \n\n          created last_commit      license  \nname                                        \ndexpy  2016-09-17  2018-06-17  NOASSERTION  "
     },
     "execution_count": 1,
     "metadata": {},
     "output_type": "execute_result"
    }
   ],
   "source": [
    "from util import compare_repos\n",
    "compare_repos([\"statease/dexpy\"])"
   ]
  },
  {
   "cell_type": "code",
   "execution_count": 2,
   "metadata": {},
   "outputs": [],
   "source": [
    "import dexpy\n",
    "import dexpy.factorial\n",
    "import dexpy.optimal"
   ]
  },
  {
   "cell_type": "markdown",
   "metadata": {},
   "source": [
    "## Full factorial / fractional designs"
   ]
  },
  {
   "cell_type": "code",
   "execution_count": 3,
   "metadata": {},
   "outputs": [
    {
     "data": {
      "text/html": "<div>\n<style scoped>\n    .dataframe tbody tr th:only-of-type {\n        vertical-align: middle;\n    }\n\n    .dataframe tbody tr th {\n        vertical-align: top;\n    }\n\n    .dataframe thead th {\n        text-align: right;\n    }\n</style>\n<table border=\"1\" class=\"dataframe\">\n  <thead>\n    <tr style=\"text-align: right;\">\n      <th></th>\n      <th>X1</th>\n      <th>X2</th>\n      <th>X3</th>\n    </tr>\n  </thead>\n  <tbody>\n    <tr>\n      <th>0</th>\n      <td>-1</td>\n      <td>-1</td>\n      <td>-1</td>\n    </tr>\n    <tr>\n      <th>1</th>\n      <td>-1</td>\n      <td>-1</td>\n      <td>1</td>\n    </tr>\n    <tr>\n      <th>2</th>\n      <td>-1</td>\n      <td>1</td>\n      <td>-1</td>\n    </tr>\n    <tr>\n      <th>3</th>\n      <td>-1</td>\n      <td>1</td>\n      <td>1</td>\n    </tr>\n    <tr>\n      <th>4</th>\n      <td>1</td>\n      <td>-1</td>\n      <td>-1</td>\n    </tr>\n    <tr>\n      <th>5</th>\n      <td>1</td>\n      <td>-1</td>\n      <td>1</td>\n    </tr>\n    <tr>\n      <th>6</th>\n      <td>1</td>\n      <td>1</td>\n      <td>-1</td>\n    </tr>\n    <tr>\n      <th>7</th>\n      <td>1</td>\n      <td>1</td>\n      <td>1</td>\n    </tr>\n  </tbody>\n</table>\n</div>",
      "text/plain": "   X1  X2  X3\n0  -1  -1  -1\n1  -1  -1   1\n2  -1   1  -1\n3  -1   1   1\n4   1  -1  -1\n5   1  -1   1\n6   1   1  -1\n7   1   1   1"
     },
     "execution_count": 3,
     "metadata": {},
     "output_type": "execute_result"
    }
   ],
   "source": [
    "# full factorial design for 3 factors with 2 levels \n",
    "dexpy.factorial.build_factorial(factor_count=3, run_count=2**3)"
   ]
  },
  {
   "cell_type": "code",
   "execution_count": 4,
   "metadata": {},
   "outputs": [
    {
     "data": {
      "text/html": "<div>\n<style scoped>\n    .dataframe tbody tr th:only-of-type {\n        vertical-align: middle;\n    }\n\n    .dataframe tbody tr th {\n        vertical-align: top;\n    }\n\n    .dataframe thead th {\n        text-align: right;\n    }\n</style>\n<table border=\"1\" class=\"dataframe\">\n  <thead>\n    <tr style=\"text-align: right;\">\n      <th></th>\n      <th>X1</th>\n      <th>X2</th>\n      <th>X3</th>\n    </tr>\n  </thead>\n  <tbody>\n    <tr>\n      <th>0</th>\n      <td>-1</td>\n      <td>-1</td>\n      <td>1</td>\n    </tr>\n    <tr>\n      <th>1</th>\n      <td>-1</td>\n      <td>1</td>\n      <td>-1</td>\n    </tr>\n    <tr>\n      <th>2</th>\n      <td>1</td>\n      <td>-1</td>\n      <td>-1</td>\n    </tr>\n    <tr>\n      <th>3</th>\n      <td>1</td>\n      <td>1</td>\n      <td>1</td>\n    </tr>\n  </tbody>\n</table>\n</div>",
      "text/plain": "   X1  X2  X3\n0  -1  -1   1\n1  -1   1  -1\n2   1  -1  -1\n3   1   1   1"
     },
     "execution_count": 4,
     "metadata": {},
     "output_type": "execute_result"
    }
   ],
   "source": [
    "# fractional design\n",
    "dexpy.factorial.build_factorial(factor_count=3, run_count=2**2)"
   ]
  },
  {
   "cell_type": "code",
   "execution_count": 6,
   "metadata": {},
   "outputs": [
    {
     "data": {
      "text/html": "<div>\n<style scoped>\n    .dataframe tbody tr th:only-of-type {\n        vertical-align: middle;\n    }\n\n    .dataframe tbody tr th {\n        vertical-align: top;\n    }\n\n    .dataframe thead th {\n        text-align: right;\n    }\n</style>\n<table border=\"1\" class=\"dataframe\">\n  <thead>\n    <tr style=\"text-align: right;\">\n      <th></th>\n      <th>X1</th>\n      <th>X2</th>\n      <th>X3</th>\n    </tr>\n  </thead>\n  <tbody>\n    <tr>\n      <th>0</th>\n      <td>-1.000000</td>\n      <td>-1.000000</td>\n      <td>-1.000000</td>\n    </tr>\n    <tr>\n      <th>1</th>\n      <td>-1.000000</td>\n      <td>-1.000000</td>\n      <td>1.000000</td>\n    </tr>\n    <tr>\n      <th>2</th>\n      <td>-1.000000</td>\n      <td>1.000000</td>\n      <td>-1.000000</td>\n    </tr>\n    <tr>\n      <th>3</th>\n      <td>-1.000000</td>\n      <td>1.000000</td>\n      <td>1.000000</td>\n    </tr>\n    <tr>\n      <th>4</th>\n      <td>1.000000</td>\n      <td>-1.000000</td>\n      <td>-1.000000</td>\n    </tr>\n    <tr>\n      <th>5</th>\n      <td>1.000000</td>\n      <td>-1.000000</td>\n      <td>1.000000</td>\n    </tr>\n    <tr>\n      <th>6</th>\n      <td>1.000000</td>\n      <td>1.000000</td>\n      <td>-1.000000</td>\n    </tr>\n    <tr>\n      <th>7</th>\n      <td>1.000000</td>\n      <td>1.000000</td>\n      <td>1.000000</td>\n    </tr>\n    <tr>\n      <th>0</th>\n      <td>-1.681793</td>\n      <td>0.000000</td>\n      <td>0.000000</td>\n    </tr>\n    <tr>\n      <th>1</th>\n      <td>1.681793</td>\n      <td>0.000000</td>\n      <td>0.000000</td>\n    </tr>\n    <tr>\n      <th>2</th>\n      <td>0.000000</td>\n      <td>-1.681793</td>\n      <td>0.000000</td>\n    </tr>\n    <tr>\n      <th>3</th>\n      <td>0.000000</td>\n      <td>1.681793</td>\n      <td>0.000000</td>\n    </tr>\n    <tr>\n      <th>4</th>\n      <td>0.000000</td>\n      <td>0.000000</td>\n      <td>-1.681793</td>\n    </tr>\n    <tr>\n      <th>5</th>\n      <td>0.000000</td>\n      <td>0.000000</td>\n      <td>1.681793</td>\n    </tr>\n    <tr>\n      <th>0</th>\n      <td>0.000000</td>\n      <td>0.000000</td>\n      <td>0.000000</td>\n    </tr>\n  </tbody>\n</table>\n</div>",
      "text/plain": "         X1        X2        X3\n0 -1.000000 -1.000000 -1.000000\n1 -1.000000 -1.000000  1.000000\n2 -1.000000  1.000000 -1.000000\n3 -1.000000  1.000000  1.000000\n4  1.000000 -1.000000 -1.000000\n5  1.000000 -1.000000  1.000000\n6  1.000000  1.000000 -1.000000\n7  1.000000  1.000000  1.000000\n0 -1.681793  0.000000  0.000000\n1  1.681793  0.000000  0.000000\n2  0.000000 -1.681793  0.000000\n3  0.000000  1.681793  0.000000\n4  0.000000  0.000000 -1.681793\n5  0.000000  0.000000  1.681793\n0  0.000000  0.000000  0.000000"
     },
     "execution_count": 6,
     "metadata": {},
     "output_type": "execute_result"
    }
   ],
   "source": [
    "import dexpy.ccd\n",
    "dexpy.ccd.build_ccd(factor_count=3, alpha='rotatable', center_points=1)"
   ]
  },
  {
   "cell_type": "markdown",
   "metadata": {},
   "source": [
    "## Mixture design\n",
    "\n",
    "For mixtures, where the sum of components equals 1, dexpy offers a function to build a full lattice to estimate models of the given order, and a centroid design."
   ]
  },
  {
   "cell_type": "code",
   "execution_count": 9,
   "metadata": {},
   "outputs": [
    {
     "data": {
      "text/html": "<div>\n<style scoped>\n    .dataframe tbody tr th:only-of-type {\n        vertical-align: middle;\n    }\n\n    .dataframe tbody tr th {\n        vertical-align: top;\n    }\n\n    .dataframe thead th {\n        text-align: right;\n    }\n</style>\n<table border=\"1\" class=\"dataframe\">\n  <thead>\n    <tr style=\"text-align: right;\">\n      <th></th>\n      <th>X1</th>\n      <th>X2</th>\n      <th>X3</th>\n    </tr>\n  </thead>\n  <tbody>\n    <tr>\n      <th>0.0</th>\n      <td>1.0</td>\n      <td>0.0</td>\n      <td>0.0</td>\n    </tr>\n    <tr>\n      <th>1.0</th>\n      <td>0.0</td>\n      <td>1.0</td>\n      <td>0.0</td>\n    </tr>\n    <tr>\n      <th>2.0</th>\n      <td>0.0</td>\n      <td>0.0</td>\n      <td>1.0</td>\n    </tr>\n    <tr>\n      <th>3.0</th>\n      <td>0.5</td>\n      <td>0.5</td>\n      <td>0.0</td>\n    </tr>\n    <tr>\n      <th>4.0</th>\n      <td>0.5</td>\n      <td>0.0</td>\n      <td>0.5</td>\n    </tr>\n    <tr>\n      <th>5.0</th>\n      <td>0.0</td>\n      <td>0.5</td>\n      <td>0.5</td>\n    </tr>\n  </tbody>\n</table>\n</div>",
      "text/plain": "      X1   X2   X3\n0.0  1.0  0.0  0.0\n1.0  0.0  1.0  0.0\n2.0  0.0  0.0  1.0\n3.0  0.5  0.5  0.0\n4.0  0.5  0.0  0.5\n5.0  0.0  0.5  0.5"
     },
     "execution_count": 9,
     "metadata": {},
     "output_type": "execute_result"
    }
   ],
   "source": [
    "import dexpy.simplex_lattice\n",
    "dexpy.simplex_lattice.build_simplex_lattice(factor_count=3, model_order=ModelOrder.quadratic)"
   ]
  },
  {
   "cell_type": "code",
   "execution_count": 5,
   "metadata": {},
   "outputs": [
    {
     "data": {
      "text/html": "<div>\n<style scoped>\n    .dataframe tbody tr th:only-of-type {\n        vertical-align: middle;\n    }\n\n    .dataframe tbody tr th {\n        vertical-align: top;\n    }\n\n    .dataframe thead th {\n        text-align: right;\n    }\n</style>\n<table border=\"1\" class=\"dataframe\">\n  <thead>\n    <tr style=\"text-align: right;\">\n      <th></th>\n      <th>X1</th>\n      <th>X2</th>\n      <th>X3</th>\n    </tr>\n  </thead>\n  <tbody>\n    <tr>\n      <th>0.0</th>\n      <td>1.000000</td>\n      <td>0.000000</td>\n      <td>0.000000</td>\n    </tr>\n    <tr>\n      <th>1.0</th>\n      <td>0.000000</td>\n      <td>1.000000</td>\n      <td>0.000000</td>\n    </tr>\n    <tr>\n      <th>2.0</th>\n      <td>0.000000</td>\n      <td>0.000000</td>\n      <td>1.000000</td>\n    </tr>\n    <tr>\n      <th>3.0</th>\n      <td>0.500000</td>\n      <td>0.500000</td>\n      <td>0.000000</td>\n    </tr>\n    <tr>\n      <th>4.0</th>\n      <td>0.500000</td>\n      <td>0.000000</td>\n      <td>0.500000</td>\n    </tr>\n    <tr>\n      <th>5.0</th>\n      <td>0.000000</td>\n      <td>0.500000</td>\n      <td>0.500000</td>\n    </tr>\n    <tr>\n      <th>6.0</th>\n      <td>0.333333</td>\n      <td>0.333333</td>\n      <td>0.333333</td>\n    </tr>\n  </tbody>\n</table>\n</div>",
      "text/plain": "           X1        X2        X3\n0.0  1.000000  0.000000  0.000000\n1.0  0.000000  1.000000  0.000000\n2.0  0.000000  0.000000  1.000000\n3.0  0.500000  0.500000  0.000000\n4.0  0.500000  0.000000  0.500000\n5.0  0.000000  0.500000  0.500000\n6.0  0.333333  0.333333  0.333333"
     },
     "execution_count": 5,
     "metadata": {},
     "output_type": "execute_result"
    }
   ],
   "source": [
    "import dexpy.simplex_centroid\n",
    "dexpy.simplex_centroid.build_simplex_centroid(factor_count=3)"
   ]
  },
  {
   "cell_type": "markdown",
   "metadata": {},
   "source": [
    "## Optimal designs\n",
    "\n",
    "Dexpy can build D-optimal designs for polynomial models which are optimized using the coordinate-exchange algorithm.  \n",
    "* Order (of the polynomial) needs to be a `model.ModelOrder` object (constant / linear / quadratic / cubic). Models with interaction effects only, are not supported. \n",
    "* The number of runs `run_count` has to equal or higher than the model rank.\n",
    "\n",
    "Not supported are models that include discrete / categorical factors and constraints on the factors."
   ]
  },
  {
   "cell_type": "code",
   "execution_count": 8,
   "metadata": {},
   "outputs": [
    {
     "data": {
      "text/html": "<div>\n<style scoped>\n    .dataframe tbody tr th:only-of-type {\n        vertical-align: middle;\n    }\n\n    .dataframe tbody tr th {\n        vertical-align: top;\n    }\n\n    .dataframe thead th {\n        text-align: right;\n    }\n</style>\n<table border=\"1\" class=\"dataframe\">\n  <thead>\n    <tr style=\"text-align: right;\">\n      <th></th>\n      <th>X1</th>\n    </tr>\n  </thead>\n  <tbody>\n    <tr>\n      <th>0</th>\n      <td>-1.000000</td>\n    </tr>\n    <tr>\n      <th>1</th>\n      <td>1.000000</td>\n    </tr>\n    <tr>\n      <th>2</th>\n      <td>-0.078066</td>\n    </tr>\n  </tbody>\n</table>\n</div>",
      "text/plain": "         X1\n0 -1.000000\n1  1.000000\n2 -0.078066"
     },
     "execution_count": 8,
     "metadata": {},
     "output_type": "execute_result"
    }
   ],
   "source": [
    "import dexpy.optimal\n",
    "from dexpy.model import ModelOrder\n",
    "\n",
    "dexpy.optimal.build_optimal(factor_count=1, order=ModelOrder.quadratic)"
   ]
  },
  {
   "cell_type": "code",
   "execution_count": null,
   "metadata": {},
   "outputs": [],
   "source": [
    "design = dexpy.optimal.build_optimal(factor_count=2, order=ModelOrder.cubic)\n",
    "design"
   ]
  },
  {
   "cell_type": "markdown",
   "metadata": {},
   "source": [
    "## Coffee Taste Example\n",
    "* https://github.com/statease/dexpy\n",
    "* https://statease.github.io/dexpy/example-coffee.html\n",
    "* https://www.statease.com/publications/newsletter/stat-teaser-09-16#article1\n",
    "\n",
    "### Problem Description\n",
    "A coffee taste test was conducted at the Stat-Ease office to improve the taste of the coffee.\n",
    "We will look at 5 input factors:\n",
    " * Amount of Coffee (2.5 to 4.0 oz.)\n",
    " * Grind size (8-10mm)\n",
    " * Brew time (3.5 to 4.5 minutes)\n",
    " * Grind Type (burr vs blade)\n",
    " * Coffee beans (light vs dark)\n",
    "\n",
    "With one output, or `response`, variable:\n",
    " * Average overall liking (1-9)\n",
    "\n",
    "The liking is an average of the scores of a panel of 5 office coffee drinkers."
   ]
  },
  {
   "cell_type": "code",
   "execution_count": 18,
   "metadata": {},
   "outputs": [],
   "source": [
    "import dexpy\n",
    "from dexpy import factorial, power\n",
    "import pandas as pd\n",
    "import numpy as np\n",
    "import patsy\n",
    "import statsmodels.formula.api as smf\n",
    "\n",
    "column_names = ['amount', 'grind_size', 'brew_time', 'grind_type', 'beans']"
   ]
  },
  {
   "cell_type": "markdown",
   "metadata": {},
   "source": [
    "### Full Factorial Design\n",
    "A full factorial, that is, running all combinations of lows and highs, would take $2^5 = 32$ taste tests.\n",
    "We want to add 8 center point runs to check for curvature, bringing the total number of runs up to 40.  We can only do 3 per day, so as not to over-caffienate our testers, and can only do the tests on days when all 5 testers are in the office. That means the test will probably take a month or so.\n",
    "\n",
    "```dexpy.power.f_power``` calculates the probability that the F-statistic is above its critical value (alpha) given an effect of some size (signal-to-noise ratio).\n",
    "\n",
    "Here we calculate the power, assuming a signal to noise ratio of 2."
   ]
  },
  {
   "cell_type": "code",
   "execution_count": 19,
   "metadata": {},
   "outputs": [
    {
     "name": "stdout",
     "output_type": "stream",
     "text": "\nEstimated power for full factorial:\n"
    },
    {
     "data": {
      "text/html": "<div>\n<style scoped>\n    .dataframe tbody tr th:only-of-type {\n        vertical-align: middle;\n    }\n\n    .dataframe tbody tr th {\n        vertical-align: top;\n    }\n\n    .dataframe thead th {\n        text-align: right;\n    }\n</style>\n<table border=\"1\" class=\"dataframe\">\n  <thead>\n    <tr style=\"text-align: right;\">\n      <th></th>\n      <th>Power</th>\n    </tr>\n  </thead>\n  <tbody>\n    <tr>\n      <th>amount</th>\n      <td>0.999793</td>\n    </tr>\n    <tr>\n      <th>grind_size</th>\n      <td>0.999793</td>\n    </tr>\n    <tr>\n      <th>brew_time</th>\n      <td>0.999793</td>\n    </tr>\n    <tr>\n      <th>grind_type</th>\n      <td>0.999985</td>\n    </tr>\n    <tr>\n      <th>beans</th>\n      <td>0.999985</td>\n    </tr>\n  </tbody>\n</table>\n</div>",
      "text/plain": "               Power\namount      0.999793\ngrind_size  0.999793\nbrew_time   0.999793\ngrind_type  0.999985\nbeans       0.999985"
     },
     "execution_count": 19,
     "metadata": {},
     "output_type": "execute_result"
    }
   ],
   "source": [
    "design = dexpy.factorial.build_factorial(5, 2**5)\n",
    "design.columns = column_names\n",
    "center_points = [\n",
    "    [0, 0, 0, -1, -1],\n",
    "    [0, 0, 0, -1, 1],\n",
    "    [0, 0, 0, 1, -1],\n",
    "    [0, 0, 0, 1, 1]\n",
    "]\n",
    "design = design.append(pd.DataFrame(2 * center_points, columns=columns))\n",
    "\n",
    "# estimate power\n",
    "model = ' + '.join(design.columns)  # linear model\n",
    "sn = 2.0  # signal to noise ratio\n",
    "alpha = 0.05  # significance\n",
    "est_power = dexpy.power.f_power(model, design, sn, alpha)\n",
    "est_power.pop(0)  # remove intercept\n",
    "\n",
    "print(\"\\nEstimated power for full factorial:\")\n",
    "pd.DataFrame({'Power': est_power}, index=design.columns)"
   ]
  },
  {
   "cell_type": "markdown",
   "metadata": {},
   "source": [
    "### Fractional Design\n",
    "\n",
    "This means we have a 99.97% chance of detecting a change of 2 taste rating, assuming a standard deviation of 1 taste rating for the experiment. \n",
    "This is high enough that we decide to run a fraction instead, and get the experiment done more quickly. We can create a $2^{5-1}$ fractional factorial, which will have 16 runs, along with the 8 center points for a total of 24. As you can see the power is still quite good."
   ]
  },
  {
   "cell_type": "code",
   "execution_count": 20,
   "metadata": {},
   "outputs": [
    {
     "name": "stdout",
     "output_type": "stream",
     "text": "\nPower for fractional factorial:\n"
    },
    {
     "data": {
      "text/html": "<div>\n<style scoped>\n    .dataframe tbody tr th:only-of-type {\n        vertical-align: middle;\n    }\n\n    .dataframe tbody tr th {\n        vertical-align: top;\n    }\n\n    .dataframe thead th {\n        text-align: right;\n    }\n</style>\n<table border=\"1\" class=\"dataframe\">\n  <thead>\n    <tr style=\"text-align: right;\">\n      <th></th>\n      <th>Power</th>\n    </tr>\n  </thead>\n  <tbody>\n    <tr>\n      <th>amount</th>\n      <td>0.965528</td>\n    </tr>\n    <tr>\n      <th>grind_size</th>\n      <td>0.965528</td>\n    </tr>\n    <tr>\n      <th>brew_time</th>\n      <td>0.965528</td>\n    </tr>\n    <tr>\n      <th>grind_type</th>\n      <td>0.996140</td>\n    </tr>\n    <tr>\n      <th>beans</th>\n      <td>0.996140</td>\n    </tr>\n  </tbody>\n</table>\n</div>",
      "text/plain": "               Power\namount      0.965528\ngrind_size  0.965528\nbrew_time   0.965528\ngrind_type  0.996140\nbeans       0.996140"
     },
     "execution_count": 20,
     "metadata": {},
     "output_type": "execute_result"
    }
   ],
   "source": [
    "design = dexpy.factorial.build_factorial(5, 2**(5-1))\n",
    "design.columns = column_names\n",
    "center_points = [\n",
    "    [0, 0, 0, -1, -1],\n",
    "    [0, 0, 0, -1, 1],\n",
    "    [0, 0, 0, 1, -1],\n",
    "    [0, 0, 0, 1, 1]\n",
    "]\n",
    "design = design.append(pd.DataFrame(2 * center_points, columns=design.columns))\n",
    "\n",
    "# estimate power\n",
    "est_power = dexpy.power.f_power(model, design, sn, alpha)\n",
    "est_power.pop(0) # remove intercept\n",
    "\n",
    "print(\"\\nPower for fractional factorial:\")\n",
    "pd.DataFrame({'Power': est_power}, index=design.columns)"
   ]
  },
  {
   "cell_type": "markdown",
   "metadata": {},
   "source": [
    "We can also check the power for the interaction model:"
   ]
  },
  {
   "cell_type": "code",
   "execution_count": 21,
   "metadata": {},
   "outputs": [
    {
     "name": "stdout",
     "output_type": "stream",
     "text": "(amount+grind_size+brew_time+grind_type+beans)**2\n\nPower for fractional factorial (2FI model):\n"
    },
    {
     "data": {
      "text/html": "<div>\n<style scoped>\n    .dataframe tbody tr th:only-of-type {\n        vertical-align: middle;\n    }\n\n    .dataframe tbody tr th {\n        vertical-align: top;\n    }\n\n    .dataframe thead th {\n        text-align: right;\n    }\n</style>\n<table border=\"1\" class=\"dataframe\">\n  <thead>\n    <tr style=\"text-align: right;\">\n      <th></th>\n      <th>Power</th>\n    </tr>\n  </thead>\n  <tbody>\n    <tr>\n      <th>amount</th>\n      <td>0.936745</td>\n    </tr>\n    <tr>\n      <th>grind_size</th>\n      <td>0.936745</td>\n    </tr>\n    <tr>\n      <th>brew_time</th>\n      <td>0.936745</td>\n    </tr>\n    <tr>\n      <th>grind_type</th>\n      <td>0.989120</td>\n    </tr>\n    <tr>\n      <th>beans</th>\n      <td>0.989120</td>\n    </tr>\n    <tr>\n      <th>amount:grind_size</th>\n      <td>0.936745</td>\n    </tr>\n    <tr>\n      <th>amount:brew_time</th>\n      <td>0.936745</td>\n    </tr>\n    <tr>\n      <th>amount:grind_type</th>\n      <td>0.936745</td>\n    </tr>\n    <tr>\n      <th>amount:beans</th>\n      <td>0.936745</td>\n    </tr>\n    <tr>\n      <th>grind_size:brew_time</th>\n      <td>0.936745</td>\n    </tr>\n    <tr>\n      <th>grind_size:grind_type</th>\n      <td>0.936745</td>\n    </tr>\n    <tr>\n      <th>grind_size:beans</th>\n      <td>0.936745</td>\n    </tr>\n    <tr>\n      <th>brew_time:grind_type</th>\n      <td>0.936745</td>\n    </tr>\n    <tr>\n      <th>brew_time:beans</th>\n      <td>0.936745</td>\n    </tr>\n    <tr>\n      <th>grind_type:beans</th>\n      <td>0.989120</td>\n    </tr>\n  </tbody>\n</table>\n</div>",
      "text/plain": "                          Power\namount                 0.936745\ngrind_size             0.936745\nbrew_time              0.936745\ngrind_type             0.989120\nbeans                  0.989120\namount:grind_size      0.936745\namount:brew_time       0.936745\namount:grind_type      0.936745\namount:beans           0.936745\ngrind_size:brew_time   0.936745\ngrind_size:grind_type  0.936745\ngrind_size:beans       0.936745\nbrew_time:grind_type   0.936745\nbrew_time:beans        0.936745\ngrind_type:beans       0.989120"
     },
     "execution_count": 21,
     "metadata": {},
     "output_type": "execute_result"
    }
   ],
   "source": [
    "twofi_model = \"(\" + '+'.join(columns) + \")**2\"\n",
    "print(twofi_model)\n",
    "desc = patsy.ModelDesc.from_formula(twofi_model)\n",
    "est_power = dexpy.power.f_power(twofi_model, design, sn, alpha)\n",
    "est_power.pop(0) # remove intercept\n",
    "\n",
    "print(\"\\nPower for fractional factorial (2FI model):\")\n",
    "pd.DataFrame({'Power': est_power}, index=desc.describe().strip(\"~ \").split(\" + \"))"
   ]
  },
  {
   "cell_type": "markdown",
   "metadata": {},
   "source": [
    "### Run the Experiment\n",
    "We can build the $2^{5-1}$ design using build_factorial, then appending the center point runs.\n",
    "It is convenient to print out the design in actual values, rather than the coded -1 and +1 values, for when we make the coffee."
   ]
  },
  {
   "cell_type": "code",
   "execution_count": 22,
   "metadata": {},
   "outputs": [
    {
     "data": {
      "text/html": "<div>\n<style scoped>\n    .dataframe tbody tr th:only-of-type {\n        vertical-align: middle;\n    }\n\n    .dataframe tbody tr th {\n        vertical-align: top;\n    }\n\n    .dataframe thead th {\n        text-align: right;\n    }\n</style>\n<table border=\"1\" class=\"dataframe\">\n  <thead>\n    <tr style=\"text-align: right;\">\n      <th></th>\n      <th>amount</th>\n      <th>grind_size</th>\n      <th>brew_time</th>\n      <th>grind_type</th>\n      <th>beans</th>\n    </tr>\n  </thead>\n  <tbody>\n    <tr>\n      <th>0</th>\n      <td>2.50</td>\n      <td>8.0</td>\n      <td>3.5</td>\n      <td>burr</td>\n      <td>dark</td>\n    </tr>\n    <tr>\n      <th>1</th>\n      <td>2.50</td>\n      <td>8.0</td>\n      <td>3.5</td>\n      <td>blade</td>\n      <td>light</td>\n    </tr>\n    <tr>\n      <th>2</th>\n      <td>2.50</td>\n      <td>8.0</td>\n      <td>4.5</td>\n      <td>burr</td>\n      <td>light</td>\n    </tr>\n    <tr>\n      <th>3</th>\n      <td>2.50</td>\n      <td>8.0</td>\n      <td>4.5</td>\n      <td>blade</td>\n      <td>dark</td>\n    </tr>\n    <tr>\n      <th>4</th>\n      <td>2.50</td>\n      <td>10.0</td>\n      <td>3.5</td>\n      <td>burr</td>\n      <td>light</td>\n    </tr>\n    <tr>\n      <th>5</th>\n      <td>2.50</td>\n      <td>10.0</td>\n      <td>3.5</td>\n      <td>blade</td>\n      <td>dark</td>\n    </tr>\n    <tr>\n      <th>6</th>\n      <td>2.50</td>\n      <td>10.0</td>\n      <td>4.5</td>\n      <td>burr</td>\n      <td>dark</td>\n    </tr>\n    <tr>\n      <th>7</th>\n      <td>2.50</td>\n      <td>10.0</td>\n      <td>4.5</td>\n      <td>blade</td>\n      <td>light</td>\n    </tr>\n    <tr>\n      <th>8</th>\n      <td>4.00</td>\n      <td>8.0</td>\n      <td>3.5</td>\n      <td>burr</td>\n      <td>light</td>\n    </tr>\n    <tr>\n      <th>9</th>\n      <td>4.00</td>\n      <td>8.0</td>\n      <td>3.5</td>\n      <td>blade</td>\n      <td>dark</td>\n    </tr>\n    <tr>\n      <th>10</th>\n      <td>4.00</td>\n      <td>8.0</td>\n      <td>4.5</td>\n      <td>burr</td>\n      <td>dark</td>\n    </tr>\n    <tr>\n      <th>11</th>\n      <td>4.00</td>\n      <td>8.0</td>\n      <td>4.5</td>\n      <td>blade</td>\n      <td>light</td>\n    </tr>\n    <tr>\n      <th>12</th>\n      <td>4.00</td>\n      <td>10.0</td>\n      <td>3.5</td>\n      <td>burr</td>\n      <td>dark</td>\n    </tr>\n    <tr>\n      <th>13</th>\n      <td>4.00</td>\n      <td>10.0</td>\n      <td>3.5</td>\n      <td>blade</td>\n      <td>light</td>\n    </tr>\n    <tr>\n      <th>14</th>\n      <td>4.00</td>\n      <td>10.0</td>\n      <td>4.5</td>\n      <td>burr</td>\n      <td>light</td>\n    </tr>\n    <tr>\n      <th>15</th>\n      <td>4.00</td>\n      <td>10.0</td>\n      <td>4.5</td>\n      <td>blade</td>\n      <td>dark</td>\n    </tr>\n    <tr>\n      <th>0</th>\n      <td>3.25</td>\n      <td>9.0</td>\n      <td>4.0</td>\n      <td>burr</td>\n      <td>light</td>\n    </tr>\n    <tr>\n      <th>1</th>\n      <td>3.25</td>\n      <td>9.0</td>\n      <td>4.0</td>\n      <td>burr</td>\n      <td>dark</td>\n    </tr>\n    <tr>\n      <th>2</th>\n      <td>3.25</td>\n      <td>9.0</td>\n      <td>4.0</td>\n      <td>blade</td>\n      <td>light</td>\n    </tr>\n    <tr>\n      <th>3</th>\n      <td>3.25</td>\n      <td>9.0</td>\n      <td>4.0</td>\n      <td>blade</td>\n      <td>dark</td>\n    </tr>\n    <tr>\n      <th>4</th>\n      <td>3.25</td>\n      <td>9.0</td>\n      <td>4.0</td>\n      <td>burr</td>\n      <td>light</td>\n    </tr>\n    <tr>\n      <th>5</th>\n      <td>3.25</td>\n      <td>9.0</td>\n      <td>4.0</td>\n      <td>burr</td>\n      <td>dark</td>\n    </tr>\n    <tr>\n      <th>6</th>\n      <td>3.25</td>\n      <td>9.0</td>\n      <td>4.0</td>\n      <td>blade</td>\n      <td>light</td>\n    </tr>\n    <tr>\n      <th>7</th>\n      <td>3.25</td>\n      <td>9.0</td>\n      <td>4.0</td>\n      <td>blade</td>\n      <td>dark</td>\n    </tr>\n  </tbody>\n</table>\n</div>",
      "text/plain": "    amount  grind_size  brew_time grind_type  beans\n0     2.50         8.0        3.5       burr   dark\n1     2.50         8.0        3.5      blade  light\n2     2.50         8.0        4.5       burr  light\n3     2.50         8.0        4.5      blade   dark\n4     2.50        10.0        3.5       burr  light\n5     2.50        10.0        3.5      blade   dark\n6     2.50        10.0        4.5       burr   dark\n7     2.50        10.0        4.5      blade  light\n8     4.00         8.0        3.5       burr  light\n9     4.00         8.0        3.5      blade   dark\n10    4.00         8.0        4.5       burr   dark\n11    4.00         8.0        4.5      blade  light\n12    4.00        10.0        3.5       burr   dark\n13    4.00        10.0        3.5      blade  light\n14    4.00        10.0        4.5       burr  light\n15    4.00        10.0        4.5      blade   dark\n0     3.25         9.0        4.0       burr  light\n1     3.25         9.0        4.0       burr   dark\n2     3.25         9.0        4.0      blade  light\n3     3.25         9.0        4.0      blade   dark\n4     3.25         9.0        4.0       burr  light\n5     3.25         9.0        4.0       burr   dark\n6     3.25         9.0        4.0      blade  light\n7     3.25         9.0        4.0      blade   dark"
     },
     "execution_count": 22,
     "metadata": {},
     "output_type": "execute_result"
    }
   ],
   "source": [
    "design = dexpy.factorial.build_factorial(5, 2**(5-1))\n",
    "design.columns = column_names\n",
    "center_points = [\n",
    "    [0, 0, 0, -1, -1],\n",
    "    [0, 0, 0, -1, 1],\n",
    "    [0, 0, 0, 1, -1],\n",
    "    [0, 0, 0, 1, 1]\n",
    "]\n",
    "design = design.append(pd.DataFrame(2 * center_points, columns=design.columns))\n",
    "\n",
    "actual_lows = { 'amount' : 2.5, 'grind_size' : 8, 'brew_time': 3.5,\n",
    "                'grind_type': 'burr', 'beans': 'light' }\n",
    "actual_highs = { 'amount' : 4, 'grind_size' : 10, 'brew_time': 4.5,\n",
    "                 'grind_type': 'blade', 'beans': 'dark' }\n",
    "actual_design = dexpy.design.coded_to_actual(design, actual_lows, actual_highs)\n",
    "actual_design"
   ]
  },
  {
   "cell_type": "markdown",
   "metadata": {},
   "source": [
    "### Results of the experiment\n",
    "All that is left is to drink 24 pots of coffee and record the results. Note that, while the tables in this example are in a sorted order, the actual experiment was run in random order. This is done to reduce the possibility of incidental variables influencing the results. For example, if the temperature in the office for the first 8 runs was cold, the testers may have rated the taste higher. Hot coffee being more pleasing in a cold environment. If the first 8 runs were the only runs where amount was at its low setting, as it is in the sorted table above, we would confound the low amount effect with the effect of the cold office, and incorrectly conclude that a lower amount of coffee is better."
   ]
  },
  {
   "cell_type": "code",
   "execution_count": 23,
   "metadata": {},
   "outputs": [],
   "source": [
    "design['taste_rating'] = [\n",
    "    4.4, 2.6, 2.4, 8.6, 1.6, 2.8, 7.2, 3.4,\n",
    "    6.8, 3.4, 3.8, 9.0, 5.2, 3.6, 8.2, 7.0,\n",
    "    5.4, 6.8, 3.6, 5.4, 4.8, 6.2, 4.4, 5.8\n",
    "]"
   ]
  },
  {
   "cell_type": "markdown",
   "metadata": {},
   "source": [
    "### Fit 2-factor interaction model\n",
    "The statsmodels package has an OLS fitting routine that takes a patsy formula.\n",
    "We can reduce this model by keeping only terms that have a p-value below 0.05 (bolded in the table above)."
   ]
  },
  {
   "cell_type": "code",
   "execution_count": 24,
   "metadata": {},
   "outputs": [
    {
     "data": {
      "text/html": "<table class=\"simpletable\">\n<caption>OLS Regression Results</caption>\n<tr>\n  <th>Dep. Variable:</th>      <td>taste_rating</td>   <th>  R-squared:         </th> <td>   0.959</td>\n</tr>\n<tr>\n  <th>Model:</th>                   <td>OLS</td>       <th>  Adj. R-squared:    </th> <td>   0.883</td>\n</tr>\n<tr>\n  <th>Method:</th>             <td>Least Squares</td>  <th>  F-statistic:       </th> <td>   12.56</td>\n</tr>\n<tr>\n  <th>Date:</th>             <td>Mon, 17 Feb 2020</td> <th>  Prob (F-statistic):</th> <td>0.000589</td>\n</tr>\n<tr>\n  <th>Time:</th>                 <td>15:28:07</td>     <th>  Log-Likelihood:    </th> <td> -12.392</td>\n</tr>\n<tr>\n  <th>No. Observations:</th>      <td>    24</td>      <th>  AIC:               </th> <td>   56.78</td>\n</tr>\n<tr>\n  <th>Df Residuals:</th>          <td>     8</td>      <th>  BIC:               </th> <td>   75.63</td>\n</tr>\n<tr>\n  <th>Df Model:</th>              <td>    15</td>      <th>                     </th>     <td> </td>   \n</tr>\n<tr>\n  <th>Covariance Type:</th>      <td>nonrobust</td>    <th>                     </th>     <td> </td>   \n</tr>\n</table>\n<table class=\"simpletable\">\n<tr>\n            <td></td>               <th>coef</th>     <th>std err</th>      <th>t</th>      <th>P>|t|</th>  <th>[0.025</th>    <th>0.975]</th>  \n</tr>\n<tr>\n  <th>Intercept</th>             <td>    5.1000</td> <td>    0.143</td> <td>   35.572</td> <td> 0.000</td> <td>    4.769</td> <td>    5.431</td>\n</tr>\n<tr>\n  <th>amount</th>                <td>    0.8750</td> <td>    0.176</td> <td>    4.983</td> <td> 0.001</td> <td>    0.470</td> <td>    1.280</td>\n</tr>\n<tr>\n  <th>grind_size</th>            <td>   -0.1250</td> <td>    0.176</td> <td>   -0.712</td> <td> 0.497</td> <td>   -0.530</td> <td>    0.280</td>\n</tr>\n<tr>\n  <th>brew_time</th>             <td>    1.2000</td> <td>    0.176</td> <td>    6.834</td> <td> 0.000</td> <td>    0.795</td> <td>    1.605</td>\n</tr>\n<tr>\n  <th>grind_type</th>            <td>   -0.1333</td> <td>    0.143</td> <td>   -0.930</td> <td> 0.380</td> <td>   -0.464</td> <td>    0.197</td>\n</tr>\n<tr>\n  <th>beans</th>                 <td>    0.4500</td> <td>    0.143</td> <td>    3.139</td> <td> 0.014</td> <td>    0.119</td> <td>    0.781</td>\n</tr>\n<tr>\n  <th>amount:grind_size</th>     <td>    0.2500</td> <td>    0.176</td> <td>    1.424</td> <td> 0.192</td> <td>   -0.155</td> <td>    0.655</td>\n</tr>\n<tr>\n  <th>amount:brew_time</th>      <td>   -0.0750</td> <td>    0.176</td> <td>   -0.427</td> <td> 0.681</td> <td>   -0.480</td> <td>    0.330</td>\n</tr>\n<tr>\n  <th>amount:grind_type</th>     <td>   -0.1750</td> <td>    0.176</td> <td>   -0.997</td> <td> 0.348</td> <td>   -0.580</td> <td>    0.230</td>\n</tr>\n<tr>\n  <th>amount:beans</th>          <td>   -1.3250</td> <td>    0.176</td> <td>   -7.546</td> <td> 0.000</td> <td>   -1.730</td> <td>   -0.920</td>\n</tr>\n<tr>\n  <th>grind_size:brew_time</th>  <td>    0.3750</td> <td>    0.176</td> <td>    2.136</td> <td> 0.065</td> <td>   -0.030</td> <td>    0.780</td>\n</tr>\n<tr>\n  <th>grind_size:grind_type</th> <td>   -0.7250</td> <td>    0.176</td> <td>   -4.129</td> <td> 0.003</td> <td>   -1.130</td> <td>   -0.320</td>\n</tr>\n<tr>\n  <th>grind_size:beans</th>      <td>    0.3750</td> <td>    0.176</td> <td>    2.136</td> <td> 0.065</td> <td>   -0.030</td> <td>    0.780</td>\n</tr>\n<tr>\n  <th>brew_time:grind_type</th>  <td>    0.7500</td> <td>    0.176</td> <td>    4.271</td> <td> 0.003</td> <td>    0.345</td> <td>    1.155</td>\n</tr>\n<tr>\n  <th>brew_time:beans</th>       <td>    0.1500</td> <td>    0.176</td> <td>    0.854</td> <td> 0.418</td> <td>   -0.255</td> <td>    0.555</td>\n</tr>\n<tr>\n  <th>grind_type:beans</th>      <td>    0.0833</td> <td>    0.143</td> <td>    0.581</td> <td> 0.577</td> <td>   -0.247</td> <td>    0.414</td>\n</tr>\n</table>\n<table class=\"simpletable\">\n<tr>\n  <th>Omnibus:</th>       <td> 6.634</td> <th>  Durbin-Watson:     </th> <td>   2.360</td>\n</tr>\n<tr>\n  <th>Prob(Omnibus):</th> <td> 0.036</td> <th>  Jarque-Bera (JB):  </th> <td>   4.674</td>\n</tr>\n<tr>\n  <th>Skew:</th>          <td> 0.757</td> <th>  Prob(JB):          </th> <td>  0.0966</td>\n</tr>\n<tr>\n  <th>Kurtosis:</th>      <td> 4.543</td> <th>  Cond. No.          </th> <td>    1.22</td>\n</tr>\n</table><br/><br/>Warnings:<br/>[1] Standard Errors assume that the covariance matrix of the errors is correctly specified.",
      "text/plain": "<class 'statsmodels.iolib.summary.Summary'>\n\"\"\"\n                            OLS Regression Results                            \n==============================================================================\nDep. Variable:           taste_rating   R-squared:                       0.959\nModel:                            OLS   Adj. R-squared:                  0.883\nMethod:                 Least Squares   F-statistic:                     12.56\nDate:                Mon, 17 Feb 2020   Prob (F-statistic):           0.000589\nTime:                        15:28:07   Log-Likelihood:                -12.392\nNo. Observations:                  24   AIC:                             56.78\nDf Residuals:                       8   BIC:                             75.63\nDf Model:                          15                                         \nCovariance Type:            nonrobust                                         \n=========================================================================================\n                            coef    std err          t      P>|t|      [0.025      0.975]\n-----------------------------------------------------------------------------------------\nIntercept                 5.1000      0.143     35.572      0.000       4.769       5.431\namount                    0.8750      0.176      4.983      0.001       0.470       1.280\ngrind_size               -0.1250      0.176     -0.712      0.497      -0.530       0.280\nbrew_time                 1.2000      0.176      6.834      0.000       0.795       1.605\ngrind_type               -0.1333      0.143     -0.930      0.380      -0.464       0.197\nbeans                     0.4500      0.143      3.139      0.014       0.119       0.781\namount:grind_size         0.2500      0.176      1.424      0.192      -0.155       0.655\namount:brew_time         -0.0750      0.176     -0.427      0.681      -0.480       0.330\namount:grind_type        -0.1750      0.176     -0.997      0.348      -0.580       0.230\namount:beans             -1.3250      0.176     -7.546      0.000      -1.730      -0.920\ngrind_size:brew_time      0.3750      0.176      2.136      0.065      -0.030       0.780\ngrind_size:grind_type    -0.7250      0.176     -4.129      0.003      -1.130      -0.320\ngrind_size:beans          0.3750      0.176      2.136      0.065      -0.030       0.780\nbrew_time:grind_type      0.7500      0.176      4.271      0.003       0.345       1.155\nbrew_time:beans           0.1500      0.176      0.854      0.418      -0.255       0.555\ngrind_type:beans          0.0833      0.143      0.581      0.577      -0.247       0.414\n==============================================================================\nOmnibus:                        6.634   Durbin-Watson:                   2.360\nProb(Omnibus):                  0.036   Jarque-Bera (JB):                4.674\nSkew:                           0.757   Prob(JB):                       0.0966\nKurtosis:                       4.543   Cond. No.                         1.22\n==============================================================================\n\nWarnings:\n[1] Standard Errors assume that the covariance matrix of the errors is correctly specified.\n\"\"\""
     },
     "execution_count": 24,
     "metadata": {},
     "output_type": "execute_result"
    }
   ],
   "source": [
    "lm = smf.ols(\"taste_rating ~\" + twofi_model, data=design).fit()\n",
    "lm.summary()"
   ]
  },
  {
   "cell_type": "markdown",
   "metadata": {},
   "source": [
    "### Fit reduced model"
   ]
  },
  {
   "cell_type": "code",
   "execution_count": 25,
   "metadata": {},
   "outputs": [
    {
     "data": {
      "text/html": "<table class=\"simpletable\">\n<caption>OLS Regression Results</caption>\n<tr>\n  <th>Dep. Variable:</th>      <td>taste_rating</td>   <th>  R-squared:         </th> <td>   0.440</td>\n</tr>\n<tr>\n  <th>Model:</th>                   <td>OLS</td>       <th>  Adj. R-squared:    </th> <td>   0.285</td>\n</tr>\n<tr>\n  <th>Method:</th>             <td>Least Squares</td>  <th>  F-statistic:       </th> <td>   2.831</td>\n</tr>\n<tr>\n  <th>Date:</th>             <td>Mon, 17 Feb 2020</td> <th>  Prob (F-statistic):</th>  <td>0.0467</td> \n</tr>\n<tr>\n  <th>Time:</th>                 <td>15:28:08</td>     <th>  Log-Likelihood:    </th> <td> -43.837</td>\n</tr>\n<tr>\n  <th>No. Observations:</th>      <td>    24</td>      <th>  AIC:               </th> <td>   99.67</td>\n</tr>\n<tr>\n  <th>Df Residuals:</th>          <td>    18</td>      <th>  BIC:               </th> <td>   106.7</td>\n</tr>\n<tr>\n  <th>Df Model:</th>              <td>     5</td>      <th>                     </th>     <td> </td>   \n</tr>\n<tr>\n  <th>Covariance Type:</th>      <td>nonrobust</td>    <th>                     </th>     <td> </td>   \n</tr>\n</table>\n<table class=\"simpletable\">\n<tr>\n          <td></td>            <th>coef</th>     <th>std err</th>      <th>t</th>      <th>P>|t|</th>  <th>[0.025</th>    <th>0.975]</th>  \n</tr>\n<tr>\n  <th>Intercept</th>        <td>    5.1000</td> <td>    0.354</td> <td>   14.394</td> <td> 0.000</td> <td>    4.356</td> <td>    5.844</td>\n</tr>\n<tr>\n  <th>amount</th>           <td>    0.8750</td> <td>    0.434</td> <td>    2.016</td> <td> 0.059</td> <td>   -0.037</td> <td>    1.787</td>\n</tr>\n<tr>\n  <th>grind_size</th>       <td>   -0.1250</td> <td>    0.434</td> <td>   -0.288</td> <td> 0.777</td> <td>   -1.037</td> <td>    0.787</td>\n</tr>\n<tr>\n  <th>brew_time</th>        <td>    1.2000</td> <td>    0.434</td> <td>    2.765</td> <td> 0.013</td> <td>    0.288</td> <td>    2.112</td>\n</tr>\n<tr>\n  <th>beans</th>            <td>    0.4500</td> <td>    0.354</td> <td>    1.270</td> <td> 0.220</td> <td>   -0.294</td> <td>    1.194</td>\n</tr>\n<tr>\n  <th>grind_size:beans</th> <td>    0.3750</td> <td>    0.434</td> <td>    0.864</td> <td> 0.399</td> <td>   -0.537</td> <td>    1.287</td>\n</tr>\n</table>\n<table class=\"simpletable\">\n<tr>\n  <th>Omnibus:</th>       <td> 1.335</td> <th>  Durbin-Watson:     </th> <td>   2.746</td>\n</tr>\n<tr>\n  <th>Prob(Omnibus):</th> <td> 0.513</td> <th>  Jarque-Bera (JB):  </th> <td>   0.567</td>\n</tr>\n<tr>\n  <th>Skew:</th>          <td>-0.367</td> <th>  Prob(JB):          </th> <td>   0.753</td>\n</tr>\n<tr>\n  <th>Kurtosis:</th>      <td> 3.164</td> <th>  Cond. No.          </th> <td>    1.22</td>\n</tr>\n</table><br/><br/>Warnings:<br/>[1] Standard Errors assume that the covariance matrix of the errors is correctly specified.",
      "text/plain": "<class 'statsmodels.iolib.summary.Summary'>\n\"\"\"\n                            OLS Regression Results                            \n==============================================================================\nDep. Variable:           taste_rating   R-squared:                       0.440\nModel:                            OLS   Adj. R-squared:                  0.285\nMethod:                 Least Squares   F-statistic:                     2.831\nDate:                Mon, 17 Feb 2020   Prob (F-statistic):             0.0467\nTime:                        15:28:08   Log-Likelihood:                -43.837\nNo. Observations:                  24   AIC:                             99.67\nDf Residuals:                      18   BIC:                             106.7\nDf Model:                           5                                         \nCovariance Type:            nonrobust                                         \n====================================================================================\n                       coef    std err          t      P>|t|      [0.025      0.975]\n------------------------------------------------------------------------------------\nIntercept            5.1000      0.354     14.394      0.000       4.356       5.844\namount               0.8750      0.434      2.016      0.059      -0.037       1.787\ngrind_size          -0.1250      0.434     -0.288      0.777      -1.037       0.787\nbrew_time            1.2000      0.434      2.765      0.013       0.288       2.112\nbeans                0.4500      0.354      1.270      0.220      -0.294       1.194\ngrind_size:beans     0.3750      0.434      0.864      0.399      -0.537       1.287\n==============================================================================\nOmnibus:                        1.335   Durbin-Watson:                   2.746\nProb(Omnibus):                  0.513   Jarque-Bera (JB):                0.567\nSkew:                          -0.367   Prob(JB):                        0.753\nKurtosis:                       3.164   Cond. No.                         1.22\n==============================================================================\n\nWarnings:\n[1] Standard Errors assume that the covariance matrix of the errors is correctly specified.\n\"\"\""
     },
     "execution_count": 25,
     "metadata": {},
     "output_type": "execute_result"
    }
   ],
   "source": [
    "reduced_model = \"amount + grind_size + brew_time + beans + grind_size:beans\"\n",
    "lm = smf.ols(\"taste_rating ~\" + reduced_model, data=design).fit()\n",
    "lm.summary()"
   ]
  },
  {
   "cell_type": "code",
   "execution_count": null,
   "metadata": {},
   "outputs": [],
   "source": []
  }
 ],
 "metadata": {
  "kernelspec": {
   "display_name": "Python 3",
   "language": "python",
   "name": "python3"
  },
  "language_info": {
   "codemirror_mode": {
    "name": "ipython",
    "version": 3
   },
   "file_extension": ".py",
   "mimetype": "text/x-python",
   "name": "python",
   "nbconvert_exporter": "python",
   "pygments_lexer": "ipython3",
   "version": "3.8.1-final"
  }
 },
 "nbformat": 4,
 "nbformat_minor": 2
}