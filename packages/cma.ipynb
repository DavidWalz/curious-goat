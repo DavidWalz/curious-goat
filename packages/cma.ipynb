{
 "cells": [
  {
   "cell_type": "markdown",
   "metadata": {},
   "source": [
    "# CMA-ES\n",
    "Python implemetation of the Covariance Matrix Adaptation Evolution Strategy for optimizing non-linear single objective functions.  \n",
    "[[Repo]](https://github.com/CMA-ES/pycma)\n",
    "[[API doc]](http://cma.gforge.inria.fr/apidocs-pycma/index.html)\n",
    "[[PyPI]](https://pypi.org/project/cma/)\n",
    "[[Paper]](https://doi.org/10.5281/zenodo.2559634)\n",
    "\n",
    "CMA-ES is a stochastic numerical optimization algorithm for single-objective optimization problems in continuous search spaces. It's typically used for\n",
    "* difficult functions: non-convex, ill-conditioned, multi-modal, rugged, noisy\n",
    "* no gradient available\n",
    "* search spaces $x \\in R^d$ with $d < 300$\n",
    "* $> 100 \\times d$ function evaluations\n",
    "\n",
    "Box-bounds and may be handled by suitable user-constructed transformation of the inputs, and constraints via penalty terms, as briefly described [here](http://cma.gforge.inria.fr/cmaes_sourcecode_page.html#practical).  \n",
    "\n",
    "The package [pycomocma](https://github.com/CMA-ES/pycomocma) implements COMO-CMA-ES for multi-objective functions. However, for the time being, only the bi-objective case is functional there."
   ]
  },
  {
   "cell_type": "code",
   "execution_count": 1,
   "metadata": {},
   "outputs": [],
   "source": [
    "import cma"
   ]
  },
  {
   "cell_type": "markdown",
   "metadata": {},
   "source": [
    "### Example: Optimize the Rosenbrock function in 4 dimensions"
   ]
  },
  {
   "cell_type": "code",
   "execution_count": 2,
   "metadata": {},
   "outputs": [
    {
     "name": "stdout",
     "output_type": "stream",
     "text": [
      "(4_w,8)-aCMA-ES (mu_w=2.6,w_1=52%) in dimension 4 (seed=614594, Sun Jun  7 17:13:26 2020)\n",
      "Iterat #Fevals   function value  axis ratio  sigma  min&max std  t[m:s]\n",
      "    1      8 9.326454760659044e+01 1.0e+00 8.04e-01  7e-01  8e-01 0:00.0\n",
      "    2     16 3.688753689246030e+01 1.2e+00 7.83e-01  7e-01  8e-01 0:00.0\n",
      "    3     24 1.281055544818214e+02 1.3e+00 7.52e-01  6e-01  7e-01 0:00.0\n",
      "  100    800 3.701429915029941e+00 3.5e+01 4.97e-03  5e-04  1e-03 0:00.4\n",
      "  163   1304 3.701428610430023e+00 3.3e+01 5.51e-06  4e-08  7e-08 0:00.6\n",
      "termination on tolfun=1e-11 (Sun Jun  7 17:13:29 2020)\n",
      "final/bestever f-value = 3.701429e+00 3.701429e+00\n",
      "incumbent solution: [-0.7756591807449482, 0.6130932957605331, 0.3820627622462756, 0.14597195266134846]\n",
      "std deviation: [4.0246214305121786e-08, 5.9312807308133994e-08, 7.13491574246675e-08, 5.4804749160617626e-08]\n"
     ]
    }
   ],
   "source": [
    "res = cma.fmin(cma.ff.rosen, x0=[0, 0, 0, 0], sigma0=1)"
   ]
  },
  {
   "cell_type": "code",
   "execution_count": 3,
   "metadata": {},
   "outputs": [
    {
     "data": {
      "text/plain": [
       "(array([-0.77565918,  0.6130933 ,  0.38206276,  0.14597195]),\n",
       " 3.7014286104300207,\n",
       " 1305,\n",
       " 1305,\n",
       " 163,\n",
       " array([-0.77565918,  0.6130933 ,  0.38206276,  0.14597195]),\n",
       " array([4.02462143e-08, 5.93128073e-08, 7.13491574e-08, 5.48047492e-08]),\n",
       " {'tolfun': 1e-11},\n",
       " {'tolfun': 1e-11},\n",
       " <cma.evolution_strategy.CMAEvolutionStrategy at 0x25befe85dc8>,\n",
       " <cma.logger.CMADataLogger at 0x25befe8b408>)"
      ]
     },
     "execution_count": 3,
     "metadata": {},
     "output_type": "execute_result"
    }
   ],
   "source": [
    "res"
   ]
  },
  {
   "cell_type": "markdown",
   "metadata": {},
   "source": [
    "### Watermark"
   ]
  },
  {
   "cell_type": "code",
   "execution_count": 4,
   "metadata": {},
   "outputs": [
    {
     "name": "stdout",
     "output_type": "stream",
     "text": [
      "CPython 3.7.6\n",
      "IPython 7.15.0\n",
      "\n",
      "cma 3.0.3\n"
     ]
    }
   ],
   "source": [
    "%load_ext watermark\n",
    "%watermark -v -p cma"
   ]
  },
  {
   "cell_type": "code",
   "execution_count": null,
   "metadata": {},
   "outputs": [],
   "source": []
  }
 ],
 "metadata": {
  "kernelspec": {
   "display_name": "Python 3",
   "language": "python",
   "name": "python3"
  },
  "language_info": {
   "codemirror_mode": {
    "name": "ipython",
    "version": 3
   },
   "file_extension": ".py",
   "mimetype": "text/x-python",
   "name": "python",
   "nbconvert_exporter": "python",
   "pygments_lexer": "ipython3",
   "version": "3.7.6"
  }
 },
 "nbformat": 4,
 "nbformat_minor": 4
}
